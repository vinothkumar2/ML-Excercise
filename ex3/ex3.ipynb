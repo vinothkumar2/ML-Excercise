{
  "cells": [
    {
      "cell_type": "markdown",
      "metadata": {
        "id": "QfHpOdvIhHz3"
      },
      "source": [
        "# Gene Expression Monitoring Analysis"
      ]
    },
    {
      "cell_type": "markdown",
      "metadata": {
        "id": "yOTfg5IXhH0H"
      },
      "source": [
        "## Introduction"
      ]
    },
    {
      "cell_type": "markdown",
      "metadata": {
        "id": "garZ0jLXhH0J"
      },
      "source": [
        "In this notebook we shall examine a small gene expression dataset, attempting to classify leukemia patients into one of two classes. This dataset was the focus of a [Kaggle Days meetup](https://www.meetup.com/Kaggle-Days-Meetup-London/events/258570474/) in London that I attended in March 2019 and the original data can be found [here](https://www.kaggle.com/crawford/gene-expression). It comes with the following explanatory notes:\n",
        "\n",
        "### Context\n",
        "This dataset comes from a proof-of-concept study published in 1999 by Golub et al. It showed how new cases of cancer could be classified by gene expression monitoring (via DNA microarray) and thereby provided a general approach for identifying new cancer classes and assigning tumors to known classes. These data were used to classify patients with acute myeloid leukemia (AML) and acute lymphoblastic leukemia (ALL).\n",
        "\n",
        "### Content\n",
        "Golub et al \"Molecular Classification of Cancer: Class Discovery and Class Prediction by Gene Expression Monitoring\"\n",
        "\n",
        "There are two datasets containing the initial (training, 38 samples) and independent (test, 34 samples) datasets used in the paper. These datasets contain measurements corresponding to ALL and AML samples from Bone Marrow and Peripheral Blood. Intensity values have been re-scaled such that overall intensities for each chip are equivalent.\n",
        "\n",
        "### Acknowledgements\n",
        "Molecular Classification of Cancer: Class Discovery and Class Prediction by Gene Expression\n",
        "\n",
        "Science 286:531-537. (1999). Published: 1999.10.14\n",
        "\n",
        "T.R. Golub, D.K. Slonim, P. Tamayo, C. Huard, M. Gaasenbeek, J.P. Mesirov, H. Coller, M. Loh, J.R. Downing, M.A. Caligiuri, C.D. Bloomfield, and E.S. Lander\n",
        "\n",
        "These datasets have been converted to a comma separated value files (CSV).\n",
        "\n",
        "### Inspiration\n",
        "These datasets are great for classification problems. The original authors used the data to classify the type of cancer in each patient by their gene expressions."
      ]
    },
    {
      "cell_type": "markdown",
      "metadata": {
        "id": "ZN-Eyyu7hH0M"
      },
      "source": [
        "## Data Preparation"
      ]
    },
    {
      "cell_type": "code",
      "execution_count": null,
      "metadata": {
        "id": "McK3spmihH0N"
      },
      "outputs": [],
      "source": [
        "# Import all the libraries that we shall be using\n",
        "import numpy as np\n",
        "import pandas as pd\n",
        "\n",
        "import matplotlib.pyplot as plt\n",
        "import seaborn as sns\n",
        "from mpl_toolkits.mplot3d import Axes3D\n",
        "%matplotlib inline\n",
        "\n",
        "from sklearn.preprocessing import StandardScaler\n",
        "from sklearn.decomposition import PCA\n",
        "from sklearn.model_selection import GridSearchCV, cross_val_score\n",
        "from sklearn.metrics import accuracy_score, confusion_matrix\n",
        "from sklearn.cluster import KMeans\n",
        "from sklearn.svm import SVC\n",
        "from sklearn.linear_model import LogisticRegression\n",
        "from sklearn.naive_bayes import GaussianNB\n",
        "from sklearn.ensemble import RandomForestClassifier\n",
        "\n",
        "import xgboost as xgb\n",
        "\n",
        "from keras.models import Sequential\n",
        "from keras.layers import Dense\n",
        "from keras.callbacks import EarlyStopping"
      ]
    },
    {
      "cell_type": "markdown",
      "metadata": {
        "id": "dKmnKOYbhH0U"
      },
      "source": [
        "Let's start by taking a look at our target, the ALL/AML label."
      ]
    },
    {
      "cell_type": "code",
      "execution_count": null,
      "metadata": {
        "id": "5rT1Ky9ghH0W"
      },
      "outputs": [],
      "source": [
        "# Import labels (for the whole dataset, both training and testing)\n",
        "y = pd.read_csv('../input/actual.csv')\n",
        "print(y.shape)\n",
        "y.head()"
      ]
    },
    {
      "cell_type": "markdown",
      "metadata": {
        "id": "pU626i3qhH0Z"
      },
      "source": [
        "In the combined training and testing sets there are 72 patients, each of whom are labelled either \"ALL\" or \"AML\" depending on the type of leukemia they have. Here's the breakdown:"
      ]
    },
    {
      "cell_type": "code",
      "execution_count": null,
      "metadata": {
        "id": "6O0K16fghH0c"
      },
      "outputs": [],
      "source": [
        "y['cancer'].value_counts()"
      ]
    },
    {
      "cell_type": "markdown",
      "metadata": {
        "id": "R5j45lYFhH0f"
      },
      "source": [
        "We actually need our labels to be numeric, so let's just do that now."
      ]
    },
    {
      "cell_type": "code",
      "execution_count": null,
      "metadata": {
        "id": "J8O69WfVhH0h"
      },
      "outputs": [],
      "source": [
        "# Recode label to numeric\n",
        "y = y.replace({'ALL':0,'AML':1})\n",
        "labels = ['ALL', 'AML'] # for plotting convenience later on"
      ]
    },
    {
      "cell_type": "markdown",
      "metadata": {
        "id": "YsIq8y3dhH0j"
      },
      "source": [
        "Now we move on to the features, which are provided for the training and testing datasets separately."
      ]
    },
    {
      "cell_type": "code",
      "execution_count": null,
      "metadata": {
        "id": "jnATSzdOhH0k"
      },
      "outputs": [],
      "source": [
        "# Import training data\n",
        "df_train = pd.read_csv('../input/data_set_ALL_AML_train.csv')\n",
        "print(df_train.shape)\n",
        "\n",
        "# Import testing data\n",
        "df_test = pd.read_csv('../input/data_set_ALL_AML_independent.csv')\n",
        "print(df_test.shape)"
      ]
    },
    {
      "cell_type": "code",
      "execution_count": null,
      "metadata": {
        "id": "PrtUQDvRhH0m"
      },
      "outputs": [],
      "source": [
        "df_train.head()"
      ]
    },
    {
      "cell_type": "code",
      "execution_count": null,
      "metadata": {
        "id": "O6eX7KkKhH0o"
      },
      "outputs": [],
      "source": [
        "df_test.head()"
      ]
    },
    {
      "cell_type": "markdown",
      "metadata": {
        "id": "SW-14Jl8hH0p"
      },
      "source": [
        "The 7129 gene descriptions are provided as the rows and the values for each patient as the columns. This will clearly require some tidying up.\n",
        "\n",
        "Our first decision is: What should we do about all the \"call\" columns, one for each patient. No explanation for these is provided, so it's difficult to know whether they might be useful or not. We have taken the decision to simply remove them, but this may possibly not be the best approach. "
      ]
    },
    {
      "cell_type": "code",
      "execution_count": null,
      "metadata": {
        "id": "Z076NnD9hH0s"
      },
      "outputs": [],
      "source": [
        "# Transform all the call values to numbers (not used in this version)\n",
        "# df_train.replace(['A','P','M'],['1','2','3'], inplace=True)\n",
        "# df_test.replace(['A','P','M'],['1','2','3'], inplace=True)\n",
        "\n",
        "# Remove \"call\" columns from training and testing data\n",
        "train_to_keep = [col for col in df_train.columns if \"call\" not in col]\n",
        "test_to_keep = [col for col in df_test.columns if \"call\" not in col]\n",
        "\n",
        "X_train_tr = df_train[train_to_keep]\n",
        "X_test_tr = df_test[test_to_keep]"
      ]
    },
    {
      "cell_type": "markdown",
      "metadata": {
        "id": "gdC5rsQPhH0t"
      },
      "source": [
        "Neither the training and testing column names are not in numeric order, so it's important that we reorder these at some point, so that the labels will line up with the corresponding data.  "
      ]
    },
    {
      "cell_type": "code",
      "execution_count": null,
      "metadata": {
        "id": "oLVhV2_nhH0u"
      },
      "outputs": [],
      "source": [
        "train_columns_titles = ['Gene Description', 'Gene Accession Number', '1', '2', '3', '4', '5', '6', '7', '8', '9', '10',\n",
        "       '11', '12', '13', '14', '15', '16', '17', '18', '19', '20', '21', '22', '23', '24', '25', \n",
        "       '26', '27', '28', '29', '30', '31', '32', '33', '34', '35', '36', '37', '38']\n",
        "\n",
        "X_train_tr = X_train_tr.reindex(columns=train_columns_titles)"
      ]
    },
    {
      "cell_type": "code",
      "execution_count": null,
      "metadata": {
        "id": "TxGb5UcYhH0w"
      },
      "outputs": [],
      "source": [
        "test_columns_titles = ['Gene Description', 'Gene Accession Number','39', '40', '41', '42', '43', '44', '45', '46',\n",
        "       '47', '48', '49', '50', '51', '52', '53',  '54', '55', '56', '57', '58', '59',\n",
        "       '60', '61', '62', '63', '64', '65', '66', '67', '68', '69', '70', '71', '72']\n",
        "\n",
        "X_test_tr = X_test_tr.reindex(columns=test_columns_titles)"
      ]
    },
    {
      "cell_type": "markdown",
      "metadata": {
        "id": "ZWndpq55hH00"
      },
      "source": [
        "Now we can simply transpose the columns and rows so that genes become features and each patient's observations occupies a single row."
      ]
    },
    {
      "cell_type": "code",
      "execution_count": null,
      "metadata": {
        "id": "uQRtCH_YhH01"
      },
      "outputs": [],
      "source": [
        "X_train = X_train_tr.T\n",
        "X_test = X_test_tr.T\n",
        "\n",
        "print(X_train.shape) \n",
        "X_train.head()"
      ]
    },
    {
      "cell_type": "markdown",
      "metadata": {
        "id": "r9obHxb_hH02"
      },
      "source": [
        "This is still messy as the first two rows are more or less duplicates of one another and we haven't yet created the column names. Let's simply turn the second row into the column names and delete the first row."
      ]
    },
    {
      "cell_type": "code",
      "execution_count": null,
      "metadata": {
        "id": "G1UB_zOShH04"
      },
      "outputs": [],
      "source": [
        "# Clean up the column names for training and testing data\n",
        "X_train.columns = X_train.iloc[1]\n",
        "X_train = X_train.drop([\"Gene Description\", \"Gene Accession Number\"]).apply(pd.to_numeric)\n",
        "\n",
        "# Clean up the column names for Testing data\n",
        "X_test.columns = X_test.iloc[1]\n",
        "X_test = X_test.drop([\"Gene Description\", \"Gene Accession Number\"]).apply(pd.to_numeric)\n",
        "\n",
        "print(X_train.shape)\n",
        "print(X_test.shape)\n",
        "X_train.head()"
      ]
    },
    {
      "cell_type": "markdown",
      "metadata": {
        "id": "oEn-gaAQhH06"
      },
      "source": [
        "That looks much better. We have the 38 patients as rows in the training set, and the other 34 as rows in the testing set. Each of those datasets has 7129 gene expression features.\n",
        "\n",
        "But we haven't yet associated the target labels with the right patients. You will recall that all the labels are all stored in a single dataframe. Let's split the data so that the patients and labels match up across the training and testing dataframes."
      ]
    },
    {
      "cell_type": "code",
      "execution_count": null,
      "metadata": {
        "id": "QmcCZEMNhH07"
      },
      "outputs": [],
      "source": [
        "# Split into train and test (we first need to reset the index as the indexes of two dataframes need to be the same before you combine them).\n",
        "\n",
        "# Subset the first 38 patient's cancer types\n",
        "X_train = X_train.reset_index(drop=True)\n",
        "y_train = y[y.patient <= 38].reset_index(drop=True)\n",
        "\n",
        "# Subset the rest for testing\n",
        "X_test = X_test.reset_index(drop=True)\n",
        "y_test = y[y.patient > 38].reset_index(drop=True)"
      ]
    },
    {
      "cell_type": "markdown",
      "metadata": {
        "id": "71atC6XRhH09"
      },
      "source": [
        "Let's now take a look at some summary statistics:"
      ]
    },
    {
      "cell_type": "code",
      "execution_count": null,
      "metadata": {
        "id": "gEQzQTgQhH0-"
      },
      "outputs": [],
      "source": [
        "X_train.describe()"
      ]
    },
    {
      "cell_type": "markdown",
      "metadata": {
        "id": "96Ue3_CAhH1A"
      },
      "source": [
        "Clearly there is some variation in the scales across the different features. Many machine learning models work much better with data that's on the same scale, so let's create a scaled version of the dataset."
      ]
    },
    {
      "cell_type": "code",
      "execution_count": null,
      "metadata": {
        "id": "N-DEz27yhH1B"
      },
      "outputs": [],
      "source": [
        "# Convert from integer to float\n",
        "X_train_fl = X_train.astype(float, 64)\n",
        "X_test_fl = X_test.astype(float, 64)\n",
        "\n",
        "# Apply the same scaling to both datasets\n",
        "scaler = StandardScaler()\n",
        "X_train_scl = scaler.fit_transform(X_train_fl)\n",
        "X_test_scl = scaler.transform(X_test_fl) # note that we transform rather than fit_transform"
      ]
    },
    {
      "cell_type": "markdown",
      "metadata": {
        "id": "NHYAvgQ8hH1D"
      },
      "source": [
        "With 7129 features, it's also worth considering whether we might be able to reduce the dimensionality of the dataset. Once very common approach to this is principal components analysis (PCA). Let's start by leaving the number of desired components as an open question: "
      ]
    },
    {
      "cell_type": "code",
      "execution_count": null,
      "metadata": {
        "id": "DoHox7OHhH1D"
      },
      "outputs": [],
      "source": [
        "pca = PCA()\n",
        "pca.fit_transform(X_train)"
      ]
    },
    {
      "cell_type": "markdown",
      "metadata": {
        "id": "kNuBZNBOhH1I"
      },
      "source": [
        "Let's set a threshold for explained variance of 90% and see how many features are required to meet that threshold. (Here we are using the code from [this kernel](https://www.kaggle.com/rstogi896/geneclassification-using-gridsearchcv-and-svm).) "
      ]
    },
    {
      "cell_type": "code",
      "execution_count": null,
      "metadata": {
        "id": "0CKKVAdMhH1J"
      },
      "outputs": [],
      "source": [
        "total = sum(pca.explained_variance_)\n",
        "k = 0\n",
        "current_variance = 0\n",
        "while current_variance/total < 0.90:\n",
        "    current_variance += pca.explained_variance_[k]\n",
        "    k = k + 1\n",
        "    \n",
        "print(k, \" features explain around 90% of the variance. From 7129 features to \", k, \", not too bad.\", sep='')\n",
        "\n",
        "pca = PCA(n_components=k)\n",
        "X_train.pca = pca.fit(X_train)\n",
        "X_train_pca = pca.transform(X_train)\n",
        "X_test_pca = pca.transform(X_test)\n",
        "\n",
        "var_exp = pca.explained_variance_ratio_.cumsum()\n",
        "var_exp = var_exp*100\n",
        "plt.bar(range(k), var_exp);"
      ]
    },
    {
      "cell_type": "markdown",
      "metadata": {
        "id": "8HoIp784hH1K"
      },
      "source": [
        "We can't plot something in 22 dimensions, so let's just see what the PCA looks like when we just pick the top three compoments. (Here we are using code taken from [this kernel](https://www.kaggle.com/kanav0183/pca-analysis-for-geneclassification).)  "
      ]
    },
    {
      "cell_type": "code",
      "execution_count": null,
      "metadata": {
        "id": "yQnxDtG4hH1L"
      },
      "outputs": [],
      "source": [
        "pca3 = PCA(n_components=3).fit(X_train)\n",
        "X_train_reduced = pca3.transform(X_train)\n",
        "\n",
        "plt.clf()\n",
        "fig = plt.figure(1, figsize=(10,6 ))\n",
        "ax = Axes3D(fig, elev=-150, azim=110,)\n",
        "ax.scatter(X_train_reduced[:, 0], X_train_reduced[:, 1], X_train_reduced[:, 2], c = y_train.iloc[:,1], cmap = plt.cm.Paired, linewidths=10)\n",
        "ax.set_title(\"First three PCA directions\")\n",
        "ax.set_xlabel(\"1st eigenvector\")\n",
        "ax.w_xaxis.set_ticklabels([])\n",
        "ax.set_ylabel(\"2nd eigenvector\")\n",
        "ax.w_yaxis.set_ticklabels([])\n",
        "ax.set_zlabel(\"3rd eigenvector\")\n",
        "ax.w_zaxis.set_ticklabels([])"
      ]
    },
    {
      "cell_type": "code",
      "execution_count": null,
      "metadata": {
        "id": "TV4Sz6lvhH1T"
      },
      "outputs": [],
      "source": [
        "fig = plt.figure(1, figsize = (10, 6))\n",
        "plt.scatter(X_train_reduced[:, 0],  X_train_reduced[:, 1], c = y_train.iloc[:,1], cmap = plt.cm.Paired, linewidths=10)\n",
        "plt.annotate('Note the Brown Cluster', xy = (30000,-2000))\n",
        "plt.title(\"2D Transformation of the Above Graph \")"
      ]
    },
    {
      "cell_type": "markdown",
      "metadata": {
        "id": "EXR0AdRmhH1U"
      },
      "source": [
        "## Model Building"
      ]
    },
    {
      "cell_type": "markdown",
      "metadata": {
        "id": "WuB5jH29hH1V"
      },
      "source": [
        "Having prepared the dataset, it's now finally time to try out some models. "
      ]
    },
    {
      "cell_type": "markdown",
      "metadata": {
        "id": "1CryUXRrhH1V"
      },
      "source": [
        "### Baseline"
      ]
    },
    {
      "cell_type": "markdown",
      "metadata": {
        "id": "CW--_EU1hH1W"
      },
      "source": [
        "Let's start by establishing a naive baseline. This doesn't require a model, we are just taking the proportion of tests that belong to the majority class as a baseline. In other words, let's see what happens if we were to predict that every patient belongs to the \"ALL\" class."
      ]
    },
    {
      "cell_type": "code",
      "execution_count": null,
      "metadata": {
        "id": "8kf5Z8SXhH1W"
      },
      "outputs": [],
      "source": [
        "print(\"Simply predicting everything as acute lymphoblastic leukemia (ALL) results in an accuracy of \", round(1 - np.mean(y_test.iloc[:,1]), 3), \".\", sep = '')"
      ]
    },
    {
      "cell_type": "markdown",
      "metadata": {
        "id": "kjc9T3gahH1a"
      },
      "source": [
        "### K-Means Clustering"
      ]
    },
    {
      "cell_type": "markdown",
      "metadata": {
        "id": "908FsRlvhH1b"
      },
      "source": [
        "First we shall try an unsupervised clustering approach using the scaled data."
      ]
    },
    {
      "cell_type": "code",
      "execution_count": null,
      "metadata": {
        "id": "6V0-QUuUhH1c"
      },
      "outputs": [],
      "source": [
        "kmeans = KMeans(n_clusters=2, random_state=0).fit(X_train_scl)\n",
        "km_pred = kmeans.predict(X_test_scl)\n",
        "\n",
        "print('K-means accuracy:', round(accuracy_score(y_test.iloc[:,1], km_pred), 3))\n",
        "\n",
        "cm_km = confusion_matrix(y_test.iloc[:,1], km_pred)\n",
        "\n",
        "ax = plt.subplot()\n",
        "sns.heatmap(cm_km, annot=True, ax = ax, fmt='g', cmap='Greens') \n",
        "\n",
        "# labels, title and ticks\n",
        "ax.set_xlabel('Predicted labels')\n",
        "ax.set_ylabel('True labels') \n",
        "ax.set_title('K-means Confusion Matrix') \n",
        "ax.xaxis.set_ticklabels(labels) \n",
        "ax.yaxis.set_ticklabels(labels, rotation=360);"
      ]
    },
    {
      "cell_type": "markdown",
      "metadata": {
        "id": "vevd_93JhH1d"
      },
      "source": [
        "This K-means approach is better than the baseline, but we should be able to do better with some kind of supervised learning model."
      ]
    },
    {
      "cell_type": "markdown",
      "metadata": {
        "id": "i56hrVZOhH1e"
      },
      "source": [
        "### Naive Bayes"
      ]
    },
    {
      "cell_type": "markdown",
      "metadata": {
        "id": "EYEOKMTShH1e"
      },
      "source": [
        "For our first supervised model, we shall use a very straightforward naive bayes approach."
      ]
    },
    {
      "cell_type": "code",
      "execution_count": null,
      "metadata": {
        "id": "krmIcew3hH1f"
      },
      "outputs": [],
      "source": [
        "# Create a Gaussian classifier\n",
        "nb_model = GaussianNB()\n",
        "\n",
        "nb_model.fit(X_train, y_train.iloc[:,1])\n",
        "\n",
        "nb_pred = nb_model.predict(X_test)\n",
        "\n",
        "print('Naive Bayes accuracy:', round(accuracy_score(y_test.iloc[:,1], nb_pred), 3))\n",
        "\n",
        "cm_nb =  confusion_matrix(y_test.iloc[:,1], nb_pred)\n",
        "\n",
        "ax = plt.subplot()\n",
        "sns.heatmap(cm_nb, annot=True, ax = ax, fmt='g', cmap='Greens') \n",
        "\n",
        "# labels, title and ticks\n",
        "ax.set_xlabel('Predicted labels')\n",
        "ax.set_ylabel('True labels') \n",
        "ax.set_title('Naive Bayes Confusion Matrix') \n",
        "ax.xaxis.set_ticklabels(labels) \n",
        "ax.yaxis.set_ticklabels(labels, rotation=360);"
      ]
    },
    {
      "cell_type": "markdown",
      "metadata": {
        "id": "aOWndcpchH1g"
      },
      "source": [
        "The naive bayes model is pretty good, just three incorrect classifications."
      ]
    },
    {
      "cell_type": "markdown",
      "metadata": {
        "id": "uCFT6SSGhH1h"
      },
      "source": [
        "### Logistic Regression"
      ]
    },
    {
      "cell_type": "markdown",
      "metadata": {
        "id": "yaGz8xTWhH1j"
      },
      "source": [
        "Another very standard approach is logistic regression. Here we will be using grid search cross-validation tuning to try and determine the best hyperparameters. We don't need to scale the data for logistic regression, nor are we using the PCA version of the dataset. "
      ]
    },
    {
      "cell_type": "code",
      "execution_count": null,
      "metadata": {
        "id": "LR03WyJRhH1k"
      },
      "outputs": [],
      "source": [
        "log_grid = {'C': [1e-03, 1e-2, 1e-1, 1, 10], \n",
        "                 'penalty': ['l1', 'l2']}\n",
        "\n",
        "log_estimator = LogisticRegression(solver='liblinear')\n",
        "\n",
        "log_model = GridSearchCV(estimator=log_estimator, \n",
        "                  param_grid=log_grid, \n",
        "                  cv=3,\n",
        "                  scoring='accuracy')\n",
        "\n",
        "log_model.fit(X_train, y_train.iloc[:,1])\n",
        "\n",
        "print(\"Best Parameters:\\n\", log_model.best_params_)\n",
        "\n",
        "# Select best log model\n",
        "best_log = log_model.best_estimator_\n",
        "\n",
        "# Make predictions using the optimised parameters\n",
        "log_pred = best_log.predict(X_test)\n",
        "\n",
        "print('Logistic Regression accuracy:', round(accuracy_score(y_test.iloc[:,1], log_pred), 3))\n",
        "\n",
        "cm_log =  confusion_matrix(y_test.iloc[:,1], log_pred)\n",
        "\n",
        "ax = plt.subplot()\n",
        "sns.heatmap(cm_log, annot=True, ax = ax, fmt='g', cmap='Greens') \n",
        "\n",
        "# labels, title and ticks\n",
        "ax.set_xlabel('Predicted labels')\n",
        "ax.set_ylabel('True labels') \n",
        "ax.set_title('Logistic Regression Confusion Matrix') \n",
        "ax.xaxis.set_ticklabels(labels) \n",
        "ax.yaxis.set_ticklabels(labels, rotation=360);"
      ]
    },
    {
      "cell_type": "markdown",
      "metadata": {
        "id": "INoOQltphH1l"
      },
      "source": [
        "This logistic regression model manages perfect classification."
      ]
    },
    {
      "cell_type": "markdown",
      "metadata": {
        "id": "-MZkdPJNhH1p"
      },
      "source": [
        "### Support Vector Machine\n",
        "\n",
        "Here we will try another traditional approach, a support vector machine (SVM) classifier. For the SVM, so we using the PCA version of the dataset. Again we use grid search cross-validation to tune the model."
      ]
    },
    {
      "cell_type": "code",
      "execution_count": null,
      "metadata": {
        "id": "fz08Uhu1hH14"
      },
      "outputs": [],
      "source": [
        "# Parameter grid\n",
        "svm_param_grid = {'C': [0.1, 1, 10, 100], 'gamma': [1, 0.1, 0.01, 0.001, 0.00001, 10], \"kernel\": [\"linear\", \"rbf\", \"poly\"], \"decision_function_shape\" : [\"ovo\", \"ovr\"]} \n",
        "\n",
        "# Create SVM grid search classifier\n",
        "svm_grid = GridSearchCV(SVC(), svm_param_grid, cv=3)\n",
        "\n",
        "# Train the classifier\n",
        "svm_grid.fit(X_train_pca, y_train.iloc[:,1])\n",
        "\n",
        "print(\"Best Parameters:\\n\", svm_grid.best_params_)\n",
        "\n",
        "# Select best svc\n",
        "best_svc = svm_grid.best_estimator_\n",
        "\n",
        "# Make predictions using the optimised parameters\n",
        "svm_pred = best_svc.predict(X_test_pca)\n",
        "\n",
        "print('SVM accuracy:', round(accuracy_score(y_test.iloc[:,1], svm_pred), 3))\n",
        "\n",
        "cm_svm =  confusion_matrix(y_test.iloc[:,1], svm_pred)\n",
        "\n",
        "ax = plt.subplot()\n",
        "sns.heatmap(cm_svm, annot=True, ax = ax, fmt='g', cmap='Greens') \n",
        "\n",
        "# Labels, title and ticks\n",
        "ax.set_xlabel('Predicted labels')\n",
        "ax.set_ylabel('True labels') \n",
        "ax.set_title('SVM Confusion Matrix') \n",
        "ax.xaxis.set_ticklabels(labels) \n",
        "ax.yaxis.set_ticklabels(labels, rotation=360);"
      ]
    },
    {
      "cell_type": "markdown",
      "metadata": {
        "id": "eqaho62QhH15"
      },
      "source": [
        "This SVM model is making just a couple of classification errors."
      ]
    },
    {
      "cell_type": "markdown",
      "metadata": {
        "id": "Qn3sbxDNhH16"
      },
      "source": [
        "### Random Forest"
      ]
    },
    {
      "cell_type": "markdown",
      "metadata": {
        "id": "2xCjI1brhH17"
      },
      "source": [
        "We now move on to tree-base approaches, starting with the very popular random forest. We don't need scaled data for this, so again we wont use the scaled version of the dataset, just a grid search for tuning the hyperparameters."
      ]
    },
    {
      "cell_type": "code",
      "execution_count": null,
      "metadata": {
        "id": "EA3c1CUvhH17"
      },
      "outputs": [],
      "source": [
        "# Hyperparameters search grid \n",
        "rf_param_grid = {'bootstrap': [False, True],\n",
        "         'n_estimators': [60, 70, 80, 90, 100],\n",
        "         'max_features': [0.6, 0.65, 0.7, 0.75, 0.8],\n",
        "         'min_samples_leaf': [8, 10, 12, 14],\n",
        "         'min_samples_split': [3, 5, 7]\n",
        "        }\n",
        "\n",
        "# Instantiate random forest classifier\n",
        "rf_estimator = RandomForestClassifier(random_state=0)\n",
        "\n",
        "# Create the GridSearchCV object\n",
        "rf_model = GridSearchCV(estimator=rf_estimator, param_grid=rf_param_grid, cv=3, scoring='accuracy')\n",
        "\n",
        "# Fine-tune the hyperparameters\n",
        "rf_model.fit(X_train, y_train.iloc[:,1])\n",
        "\n",
        "print(\"Best Parameters:\\n\", rf_model.best_params_)\n",
        "\n",
        "# Get the best model\n",
        "rf_model_best = rf_model.best_estimator_\n",
        "\n",
        "# Make predictions using the optimised parameters\n",
        "rf_pred = rf_model_best.predict(X_test)\n",
        "\n",
        "print('Random Forest accuracy:', round(accuracy_score(y_test.iloc[:,1], rf_pred), 3))\n",
        "\n",
        "cm_rf = confusion_matrix(y_test.iloc[:,1], rf_pred)\n",
        "\n",
        "ax = plt.subplot()\n",
        "sns.heatmap(cm_rf, annot=True, ax = ax, fmt='g', cmap='Greens') \n",
        "\n",
        "# labels, title and ticks\n",
        "ax.set_xlabel('Predicted labels')\n",
        "ax.set_ylabel('True labels') \n",
        "ax.set_title('Random Forest Confusion Matrix') \n",
        "ax.xaxis.set_ticklabels(labels) \n",
        "ax.yaxis.set_ticklabels(labels, rotation=360);"
      ]
    },
    {
      "cell_type": "markdown",
      "metadata": {
        "id": "B9fMB0hbhH18"
      },
      "source": [
        "Random forest almost matches the SVM performance."
      ]
    },
    {
      "cell_type": "markdown",
      "metadata": {
        "id": "SmOMbUL5hH19"
      },
      "source": [
        "### XG Boost"
      ]
    },
    {
      "cell_type": "markdown",
      "metadata": {
        "id": "BkwDMvLChH2N"
      },
      "source": [
        "Nowadays, gradient boosting models such as XG Boost(XGB) are extremely popular. Here we shall experiment with three alternative versions, PCA with grid search, PCA without grid search and also the orginal data without either PCA or grid search."
      ]
    },
    {
      "cell_type": "markdown",
      "metadata": {
        "id": "euj1s6r_hH2U"
      },
      "source": [
        "#### XGB — PCA with Grid Search"
      ]
    },
    {
      "cell_type": "code",
      "execution_count": null,
      "metadata": {
        "id": "AzipgJjIhH2V"
      },
      "outputs": [],
      "source": [
        "xgb_grid_params = {'max_depth': [3, 4, 5, 6, 7, 8, 10, 12],\n",
        "               'min_child_weight': [1, 2, 4, 6, 8, 10, 12, 15],\n",
        "               'n_estimators': [40, 50, 60, 70, 80, 90, 100, 110, 120, 130],\n",
        "               'learning_rate': [0.001, 0.01, 0.05, 0.1, 0.2, 0.3]}\n",
        "\n",
        "fixed_params = {'random_state': 0,\n",
        "                'n_jobs': -1}\n",
        "\n",
        "xgb_model = GridSearchCV(xgb.XGBClassifier(**fixed_params), \n",
        "                       param_grid = xgb_grid_params, \n",
        "                       scoring = 'accuracy',\n",
        "                       cv = 3)\n",
        "\n",
        "xgb_model.fit(X_train_pca, y_train.iloc[:,1])\n",
        "\n",
        "print(\"Best Parameters:\\n\", xgb_model.best_params_)\n",
        "\n",
        "# Get the best model\n",
        "xgb_model_best = xgb_model.best_estimator_\n",
        "\n",
        "# Make predictions using the optimised parameters\n",
        "xgb_pred = xgb_model_best.predict(X_test_pca)\n",
        "\n",
        "print('XGB (PCA with Grid Search) accuracy:', round(accuracy_score(y_test.iloc[:,1], xgb_pred), 3))\n",
        "\n",
        "cm_xgb = confusion_matrix(y_test.iloc[:,1], xgb_pred)\n",
        "\n",
        "ax = plt.subplot()\n",
        "sns.heatmap(cm_xgb, annot=True, ax = ax, fmt='g', cmap='Greens') \n",
        "\n",
        "# labels, title and ticks\n",
        "ax.set_xlabel('Predicted labels')\n",
        "ax.set_ylabel('True labels') \n",
        "ax.set_title('XGB (PCA with Grid Search) Confusion Matrix') \n",
        "ax.xaxis.set_ticklabels(labels) \n",
        "ax.yaxis.set_ticklabels(labels, rotation=360);"
      ]
    },
    {
      "cell_type": "markdown",
      "metadata": {
        "id": "5W7Wqu8UhH2W"
      },
      "source": [
        "XGB with PCA and grid search isn't particularly good."
      ]
    },
    {
      "cell_type": "markdown",
      "metadata": {
        "id": "KV_51CMYhH2a"
      },
      "source": [
        "#### XGB — PCA with no Grid Search"
      ]
    },
    {
      "cell_type": "code",
      "execution_count": null,
      "metadata": {
        "id": "gnhsjpGPhH2b"
      },
      "outputs": [],
      "source": [
        "xgb2_model = xgb.XGBClassifier()\n",
        "xgb2_model.fit(X_train_pca, y_train.iloc[:,1])\n",
        "\n",
        "xgb2_pred = xgb2_model.predict(X_test_pca)\n",
        "\n",
        "print('Accuracy: ', round(accuracy_score(y_test.iloc[:,1], xgb2_pred), 3))\n",
        "\n",
        "cm_xgb2 = confusion_matrix(y_test.iloc[:,1], xgb2_pred)\n",
        "\n",
        "ax = plt.subplot()\n",
        "sns.heatmap(cm_xgb2, annot=True, ax = ax, fmt='g', cmap='Greens') \n",
        "\n",
        "# Labels, title and ticks\n",
        "ax.set_xlabel('Predicted labels')\n",
        "ax.set_ylabel('True labels') \n",
        "ax.set_title('XGB (PCA without Grid Search) Confusion Matrix') \n",
        "ax.xaxis.set_ticklabels(labels) \n",
        "ax.yaxis.set_ticklabels(labels, rotation=360);"
      ]
    },
    {
      "cell_type": "markdown",
      "metadata": {
        "id": "azXfmNlzhH2c"
      },
      "source": [
        "Without the grid search, this is barely any better. However, it seems that the grid search may possibly be resulting in some overfitting."
      ]
    },
    {
      "cell_type": "markdown",
      "metadata": {
        "id": "7FBFznBdhH2d"
      },
      "source": [
        "#### XGB — no PCA or Grid Search"
      ]
    },
    {
      "cell_type": "code",
      "execution_count": null,
      "metadata": {
        "id": "uJiSSm0VhH2e"
      },
      "outputs": [],
      "source": [
        "xgb3_model = xgb.XGBClassifier()\n",
        "xgb3_model.fit(X_train, y_train.iloc[:,1])\n",
        "\n",
        "xgb3_pred = xgb3_model.predict(X_test)\n",
        "\n",
        "print('XGB (no PCA or Grid Search) accuracy:', round(accuracy_score(y_test.iloc[:,1], xgb3_pred), 3))\n",
        "\n",
        "cm_xgb3 = confusion_matrix(y_test.iloc[:,1], xgb3_pred)\n",
        "\n",
        "ax = plt.subplot()\n",
        "sns.heatmap(cm_xgb3, annot=True, ax = ax, fmt='g', cmap='Greens') \n",
        "\n",
        "# Labels, title and ticks\n",
        "ax.set_xlabel('Predicted labels')\n",
        "ax.set_ylabel('True labels') \n",
        "ax.set_title('XGB (no PCA or Grid Search) Confusion Matrix') \n",
        "ax.xaxis.set_ticklabels(labels) \n",
        "ax.yaxis.set_ticklabels(labels, rotation=360);"
      ]
    },
    {
      "cell_type": "markdown",
      "metadata": {
        "id": "pm0va3e3hH2g"
      },
      "source": [
        "OK, that's more like it. It seems that the PCA was actually the wrong approach for the XGB model."
      ]
    },
    {
      "cell_type": "markdown",
      "metadata": {
        "id": "9S8bJBmnhH2h"
      },
      "source": [
        "### Neural Network"
      ]
    },
    {
      "cell_type": "markdown",
      "metadata": {
        "id": "vlJ38muAhH2i"
      },
      "source": [
        "Finally we shall build a neural network using Keras (with TensorFlow as a backend). This only a \"shallow\" learning model with one hidden layer — adding several extra layers with so few training datapoints would just lead to overfitting.  "
      ]
    },
    {
      "cell_type": "code",
      "execution_count": null,
      "metadata": {
        "id": "4W2HhzNXhH2l"
      },
      "outputs": [],
      "source": [
        "# Create model architecture\n",
        "model = Sequential()\n",
        "model.add(Dense(16, activation='relu', input_shape=(7129,)))\n",
        "model.add(Dense(1, activation='sigmoid'))"
      ]
    },
    {
      "cell_type": "code",
      "execution_count": null,
      "metadata": {
        "id": "whASHDhVhH2q"
      },
      "outputs": [],
      "source": [
        "# Compile model\n",
        "model.compile(optimizer='adam',\n",
        "loss='binary_crossentropy',\n",
        "metrics=['accuracy'])"
      ]
    },
    {
      "cell_type": "code",
      "execution_count": null,
      "metadata": {
        "id": "ucTKeC66hH2s"
      },
      "outputs": [],
      "source": [
        "# Create training/validation sets\n",
        "partial_X_train = X_train_scl[:30]\n",
        "X_val = X_train_scl[30:]\n",
        "\n",
        "y_train_label = y_train.iloc[:,1]\n",
        "partial_y_train = y_train_label[:30]\n",
        "y_val = y_train_label[30:]"
      ]
    },
    {
      "cell_type": "code",
      "execution_count": null,
      "metadata": {
        "id": "bGe6ix8AhH2s"
      },
      "outputs": [],
      "source": [
        "# Set up early stopping\n",
        "es = EarlyStopping(monitor='val_loss', verbose=1, patience=3)\n",
        "\n",
        "# Fit model\n",
        "history = model.fit(partial_X_train,\n",
        "            partial_y_train,\n",
        "            epochs=50,\n",
        "            batch_size=4,\n",
        "            validation_data=(X_val, y_val),\n",
        "            callbacks=[es])"
      ]
    },
    {
      "cell_type": "code",
      "execution_count": null,
      "metadata": {
        "id": "Ig0WFBNFhH2t"
      },
      "outputs": [],
      "source": [
        "# Make predictions\n",
        "nn_pred = model.predict_classes(X_test_scl)\n",
        "\n",
        "print('Neural Network accuracy: ', round(accuracy_score(y_test.iloc[:,1], nn_pred), 3))\n",
        "\n",
        "cm_nn = confusion_matrix(y_test.iloc[:,1], nn_pred)\n",
        "\n",
        "ax = plt.subplot()\n",
        "sns.heatmap(cm_nn, annot=True, ax = ax, fmt='g', cmap='Greens') \n",
        "\n",
        "# Labels, title and ticks\n",
        "ax.set_xlabel('Predicted labels')\n",
        "ax.set_ylabel('True labels') \n",
        "ax.set_title('Neural Network Confusion Matrix') \n",
        "ax.xaxis.set_ticklabels(labels) \n",
        "ax.yaxis.set_ticklabels(labels, rotation=360);"
      ]
    },
    {
      "cell_type": "markdown",
      "metadata": {
        "id": "EgLkOM6WhH2u"
      },
      "source": [
        "The neural network isn't as good as some of the other models."
      ]
    },
    {
      "cell_type": "markdown",
      "metadata": {
        "id": "blHUwmt_hH2v"
      },
      "source": [
        "In conclusion, it was the logistic regression model that provided the best performance on this dataset."
      ]
    },
    {
      "cell_type": "markdown",
      "metadata": {
        "id": "wmKn16dFhH20"
      },
      "source": [
        "### I hope that you have enjoyed this kernel and found it useful. If so I would be grateful if you please upvote it, so that others will become aware of it. Please feel free to add any comments, suggestions or corrections below."
      ]
    },
    {
      "cell_type": "code",
      "execution_count": null,
      "metadata": {
        "id": "hVC87XuehH21"
      },
      "outputs": [],
      "source": [
        ""
      ]
    }
  ],
  "metadata": {
    "kernelspec": {
      "display_name": "Python 3",
      "language": "python",
      "name": "python3"
    },
    "language_info": {
      "codemirror_mode": {
        "name": "ipython",
        "version": 3
      },
      "file_extension": ".py",
      "mimetype": "text/x-python",
      "name": "python",
      "nbconvert_exporter": "python",
      "pygments_lexer": "ipython3",
      "version": "3.6.6"
    },
    "colab": {
      "name": "ex3.ipynb",
      "provenance": [],
      "collapsed_sections": [
        "-MZkdPJNhH1p"
      ]
    }
  },
  "nbformat": 4,
  "nbformat_minor": 0
}