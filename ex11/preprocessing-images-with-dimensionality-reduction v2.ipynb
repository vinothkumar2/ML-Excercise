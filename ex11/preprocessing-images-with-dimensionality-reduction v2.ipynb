{
 "cells": [
  {
   "cell_type": "markdown",
   "metadata": {
    "_cell_guid": "b627d459-3a31-476b-b91a-a247fad1e210",
    "_uuid": "bed9e689ce761fa618cb23bea7990112dd8db48f"
   },
   "source": [
    "Here, we are going to look at dimensionality reduction as a preprocessing technique for images.\n",
    "\n",
    "Before we start, why might you do this? Well the [curse of dimensionality](https://en.wikipedia.org/wiki/Curse_of_dimensionality) tells us that the more features we have then the more data we need to train a good model. Expanding on this, if you have a fixed amount of training data (which is often the case) your model's accuracy will decrease for every feature you have.\n",
    "\n",
    "For images, we think of the number of features as the number of pixels. So for a 64x64 image we have 4096 features! One way to reduce that number (and hopefully produce a more accurate model) is to effectively compress the image. We do this by trying to find a way of keeping as much information as possible about the image without losing the essential structure.\n",
    "\n",
    "For the example in this notebook, we're going to use [PCA](https://en.wikipedia.org/wiki/Principal_component_analysis) and the Sign Language Digits classification dataset."
   ]
  },
  {
   "cell_type": "code",
   "execution_count": 1,
   "metadata": {
    "_cell_guid": "b1076dfc-b9ad-4769-8c92-a6c4dae69d19",
    "_kg_hide-input": true,
    "_kg_hide-output": false,
    "_uuid": "8f2839f25d086af736a60e9eeb907d3b93b6e0e5"
   },
   "outputs": [],
   "source": [
    "# This Python 3 environment comes with many helpful analytics libraries installed\n",
    "# It is defined by the kaggle/python docker image: https://github.com/kaggle/docker-python\n",
    "# For example, here's several helpful packages to load in \n",
    "\n",
    "import numpy as np # linear algebra\n",
    "import pandas as pd # data processing, CSV file I/O (e.g. pd.read_csv)\n",
    "\n",
    "# Input data files are available in the \"../input/\" directory.\n",
    "# For example, running this (by clicking run or pressing Shift+Enter) will list the files in the input directory\n",
    "\n",
    "import os\n",
    "#print(os.listdir(\"../input\"))\n",
    "\n",
    "# Any results you write to the current directory are saved as output."
   ]
  },
  {
   "cell_type": "code",
   "execution_count": 2,
   "metadata": {
    "_cell_guid": "79c7e3d0-c299-4dcb-8224-4455121ee9b0",
    "_uuid": "d629ff2d2480ee46fbb7e2d37f6b5fab8052498a"
   },
   "outputs": [
    {
     "data": {
      "text/plain": [
       "(2062, 64, 64)"
      ]
     },
     "execution_count": 2,
     "metadata": {},
     "output_type": "execute_result"
    }
   ],
   "source": [
    "import matplotlib.pyplot as plt\n",
    "from sklearn.model_selection import train_test_split\n",
    "from sklearn.neural_network import MLPClassifier\n",
    "from sklearn.metrics import accuracy_score, confusion_matrix\n",
    "from sklearn.decomposition import PCA\n",
    "\n",
    "X = np.load(r\"C:\\Users\\malar\\Downloads\\Compressed\\X.npy\\X.npy\")\n",
    "Y = np.load(r\"C:\\Users\\malar\\Downloads\\Y.npy\")\n",
    "\n",
    "X.shape"
   ]
  },
  {
   "cell_type": "markdown",
   "metadata": {
    "_cell_guid": "8f3f0440-8061-4065-8e2a-30b627fd22b5",
    "_uuid": "4229a805cffda56a9feca2a0f811d1ec0d188f1d"
   },
   "source": [
    "So as I said before the Sign-language-digits-dataset is formed of 2062 images, each 64x64.\n",
    "\n",
    "Let's have a look at what that looks like:"
   ]
  },
  {
   "cell_type": "code",
   "execution_count": 3,
   "metadata": {
    "_cell_guid": "05b9e856-590d-4816-83fa-0dadf2b480bc",
    "_uuid": "e1ef2ef125d5bd07fa9118548e1a51d4b0893ecf"
   },
   "outputs": [
    {
     "data": {
      "text/plain": [
       "<matplotlib.image.AxesImage at 0x744948b388>"
      ]
     },
     "execution_count": 3,
     "metadata": {},
     "output_type": "execute_result"
    },
    {
     "data": {
      "image/png": "[encoded data removed]",
      "text/plain": [
       "<Figure size 432x288 with 1 Axes>"
      ]
     },
     "metadata": {
      "needs_background": "light"
     },
     "output_type": "display_data"
    }
   ],
   "source": [
    "plt.imshow(X[0])"
   ]
  },
  {
   "cell_type": "markdown",
   "metadata": {
    "_uuid": "acd93d97fd90d092c5c0ada196298b93d3c3a839"
   },
   "source": [
    "the `Y` dataset here gives us the labels for these images, it's kind of weirdly ordered and this image represents the number"
   ]
  },
  {
   "cell_type": "code",
   "execution_count": 4,
   "metadata": {
    "_uuid": "96b26545579fe90f3633a73b566e452708b9a87c"
   },
   "outputs": [
    {
     "data": {
      "text/plain": [
       "9"
      ]
     },
     "execution_count": 4,
     "metadata": {},
     "output_type": "execute_result"
    }
   ],
   "source": [
    "9 - np.argmax(Y[0])"
   ]
  },
  {
   "cell_type": "markdown",
   "metadata": {
    "_cell_guid": "eeab07bb-6f1c-4d15-bf8e-45e722cf4728",
    "_uuid": "c56fb1d4b1618e9064a620706f5609df45e1b7d4"
   },
   "source": [
    "To start with let's flatten our data into 2062 4096 dim vectors and split the dataset into training and testing sets."
   ]
  },
  {
   "cell_type": "code",
   "execution_count": 5,
   "metadata": {
    "_cell_guid": "78a459c8-fdee-4e4a-9b93-fe1326b809e6",
    "_uuid": "d57663d040803e65343b118d821ca52270f0472d"
   },
   "outputs": [],
   "source": [
    "X_flat = np.array(X).reshape((2062, 64*64))\n",
    "\n",
    "X_train, X_test, y_train, y_test = train_test_split(X_flat, Y, test_size=0.3, random_state=42)"
   ]
  },
  {
   "cell_type": "markdown",
   "metadata": {
    "_uuid": "715eba8fa841d1cb97768d4f579b92a09475ca6c"
   },
   "source": [
    "To demonstrate how dimensionality reduction can improve the results of a model we need a model. Here is a very basic, fully connected neural net\n",
    "\n",
    "This is deliberately not a great model and I'm not going to tune the hyper-parameters. We only need this as a benchmark for later"
   ]
  },
  {
   "cell_type": "code",
   "execution_count": 6,
   "metadata": {
    "_cell_guid": "3c3026fe-2b32-441b-8353-ef26727773fb",
    "_uuid": "2778c277e319770be5a55e877f1a706b7e9cb1a9"
   },
   "outputs": [
    {
     "name": "stderr",
     "output_type": "stream",
     "text": [
      "C:\\Users\\malar\\anaconda3\\lib\\site-packages\\sklearn\\neural_network\\_multilayer_perceptron.py:571: ConvergenceWarning: Stochastic Optimizer: Maximum iterations (200) reached and the optimization hasn't converged yet.\n",
      "  % self.max_iter, ConvergenceWarning)\n"
     ]
    },
    {
     "data": {
      "text/plain": [
       "MLPClassifier(activation='relu', alpha=1e-05, batch_size='auto', beta_1=0.9,\n",
       "              beta_2=0.999, early_stopping=False, epsilon=1e-08,\n",
       "              hidden_layer_sizes=(20, 20, 20), learning_rate='constant',\n",
       "              learning_rate_init=0.001, max_fun=15000, max_iter=200,\n",
       "              momentum=0.9, n_iter_no_change=10, nesterovs_momentum=True,\n",
       "              power_t=0.5, random_state=1, shuffle=True, solver='adam',\n",
       "              tol=0.0001, validation_fraction=0.1, verbose=False,\n",
       "              warm_start=False)"
      ]
     },
     "execution_count": 6,
     "metadata": {},
     "output_type": "execute_result"
    }
   ],
   "source": [
    "clf = MLPClassifier(solver='adam', alpha=1e-5, hidden_layer_sizes=(20, 20, 20), random_state=1)\n",
    "clf.fit(X_train, y_train)"
   ]
  },
  {
   "cell_type": "code",
   "execution_count": 7,
   "metadata": {
    "_cell_guid": "3c2af9ac-aff5-4124-bbb2-f8154efe1122",
    "_uuid": "3e7153ee2143381bb424f5cb1bac96dfaa30983f"
   },
   "outputs": [
    {
     "name": "stdout",
     "output_type": "stream",
     "text": [
      "accuracy: 0.3360258481421648\n"
     ]
    }
   ],
   "source": [
    "y_hat = clf.predict(X_test)\n",
    "\n",
    "print(\"accuracy: \" + str(accuracy_score(y_test, y_hat)))"
   ]
  },
  {
   "cell_type": "markdown",
   "metadata": {
    "_uuid": "d6b7c9f07e00f1a4e28d32fd0cb7e895e18db8b4"
   },
   "source": [
    "As you can see, this is a pretty poor model, only achieving ~30% overall accuracy on the test set.\n",
    "\n",
    "We're now goint to reduce the dimension of our training data and then retrain what we have.\n",
    "\n",
    "The objective here is going to be to reduce the number of dimensions of the image, but before we do that we need to decide what we want to reduce it to. To do that we're going to try and find the number of dimensions that keeps 95% of the variance of the original images."
   ]
  },
  {
   "cell_type": "code",
   "execution_count": 8,
   "metadata": {
    "_cell_guid": "8bddb62c-6b6c-43cd-b309-cd036a5cfd89",
    "_uuid": "2fe372d88145995f55071ee07eb893aef6831388"
   },
   "outputs": [],
   "source": [
    "pca_dims = PCA()\n",
    "pca_dims.fit(X_train)\n",
    "cumsum = np.cumsum(pca_dims.explained_variance_ratio_)\n",
    "d = np.argmax(cumsum >= 0.95) + 1"
   ]
  },
  {
   "cell_type": "code",
   "execution_count": 9,
   "metadata": {
    "_cell_guid": "630eb3f7-7296-46a8-ab63-8ba152668229",
    "_uuid": "bce1f8280f424ac5989f9454e101a4f2d09428e2"
   },
   "outputs": [
    {
     "data": {
      "text/plain": [
       "292"
      ]
     },
     "execution_count": 9,
     "metadata": {},
     "output_type": "execute_result"
    }
   ],
   "source": [
    "d"
   ]
  },
  {
   "cell_type": "markdown",
   "metadata": {
    "_uuid": "bd7f96c04f75c90a505e911d671d3c8dbf5d6ccd"
   },
   "source": [
    "Wow - so we've gone from 4096 dimensions to just 292! But how good is this actually?\n",
    "\n",
    "Let's train PCA on our training set and transform the data, then print out an example"
   ]
  },
  {
   "cell_type": "code",
   "execution_count": 10,
   "metadata": {
    "_cell_guid": "781a02d0-b04a-4d36-ac2c-7b65f5a5976f",
    "_uuid": "97aba0abb36ea73b26ea074b9a82a665cfe99bfd"
   },
   "outputs": [],
   "source": [
    "pca = PCA(n_components=d)\n",
    "X_reduced = pca.fit_transform(X_train)\n",
    "X_recovered = pca.inverse_transform(X_reduced)"
   ]
  },
  {
   "cell_type": "code",
   "execution_count": 11,
   "metadata": {
    "_uuid": "c350cefd3a8818dc54793b682818b6425a8edf33"
   },
   "outputs": [
    {
     "name": "stdout",
     "output_type": "stream",
     "text": [
      "reduced shape: (1443, 292)\n",
      "recovered shape: (1443, 4096)\n"
     ]
    }
   ],
   "source": [
    "print(\"reduced shape: \" + str(X_reduced.shape))\n",
    "print(\"recovered shape: \" + str(X_recovered.shape))"
   ]
  },
  {
   "cell_type": "code",
   "execution_count": 12,
   "metadata": {
    "_cell_guid": "99a4082c-2686-46cc-8058-a4f322246639",
    "_uuid": "e4c9ce9bda7df7dcfcc83d791b2e49f170d65894"
   },
   "outputs": [
    {
     "data": {
      "image/png": "[encoded data removed]",
      "text/plain": [
       "<Figure size 432x288 with 2 Axes>"
      ]
     },
     "metadata": {
      "needs_background": "light"
     },
     "output_type": "display_data"
    }
   ],
   "source": [
    "f = plt.figure()\n",
    "f.add_subplot(1,2, 1)\n",
    "plt.title(\"original\")\n",
    "plt.imshow(X_train[0].reshape((64,64)))\n",
    "f.add_subplot(1,2, 2)\n",
    "\n",
    "plt.title(\"PCA compressed\")\n",
    "plt.imshow(X_recovered[0].reshape((64,64)))\n",
    "plt.show(block=True)"
   ]
  },
  {
   "cell_type": "markdown",
   "metadata": {
    "_uuid": "4e49d789023675e1d7593001a7c8fc91362e86a3"
   },
   "source": [
    "You can see it's far from perfect, but it's still clear what shape the hand is making\n",
    "\n",
    "Let's retrain our model with the dimensionally reduced training data:"
   ]
  },
  {
   "cell_type": "code",
   "execution_count": 13,
   "metadata": {
    "_uuid": "f3fb5904e7c8f7104f32fdb07f6d20919b9ee5c4"
   },
   "outputs": [
    {
     "name": "stderr",
     "output_type": "stream",
     "text": [
      "C:\\Users\\malar\\anaconda3\\lib\\site-packages\\sklearn\\neural_network\\_multilayer_perceptron.py:571: ConvergenceWarning: Stochastic Optimizer: Maximum iterations (200) reached and the optimization hasn't converged yet.\n",
      "  % self.max_iter, ConvergenceWarning)\n"
     ]
    },
    {
     "data": {
      "text/plain": [
       "MLPClassifier(activation='relu', alpha=1e-05, batch_size='auto', beta_1=0.9,\n",
       "              beta_2=0.999, early_stopping=False, epsilon=1e-08,\n",
       "              hidden_layer_sizes=(20, 20, 20), learning_rate='constant',\n",
       "              learning_rate_init=0.001, max_fun=15000, max_iter=200,\n",
       "              momentum=0.9, n_iter_no_change=10, nesterovs_momentum=True,\n",
       "              power_t=0.5, random_state=None, shuffle=True, solver='adam',\n",
       "              tol=0.0001, validation_fraction=0.1, verbose=False,\n",
       "              warm_start=False)"
      ]
     },
     "execution_count": 13,
     "metadata": {},
     "output_type": "execute_result"
    }
   ],
   "source": [
    "clf_reduced = MLPClassifier(solver='adam', alpha=1e-5, hidden_layer_sizes=(20, 20, 20))\n",
    "clf_reduced.fit(X_reduced, y_train)"
   ]
  },
  {
   "cell_type": "code",
   "execution_count": 14,
   "metadata": {
    "_uuid": "aad7ef6d3652c3f178e0b21bb44a443c9ddaa62c"
   },
   "outputs": [
    {
     "name": "stdout",
     "output_type": "stream",
     "text": [
      "accuracy: 0.6155088852988692\n"
     ]
    }
   ],
   "source": [
    "X_test_reduced = pca.transform(X_test)\n",
    "\n",
    "y_hat_reduced = clf_reduced.predict(X_test_reduced)\n",
    "\n",
    "print(\"accuracy: \" + str(accuracy_score(y_test, y_hat_reduced)))"
   ]
  },
  {
   "cell_type": "markdown",
   "metadata": {
    "_uuid": "08da0bd78000a481d4b0b117f3cf27d961afc893"
   },
   "source": [
    "And as you can see we've taken this simple model from ~30% accuracy on the test set to ~65%\n",
    "\n",
    "\n",
    "\n",
    "**EDIT**\n",
    "\n",
    "Some dependency has changed and I've changed the architecture of the NN here slightly, but the point remains the same"
   ]
  },
  {
   "cell_type": "code",
   "execution_count": null,
   "metadata": {
    "_uuid": "ebbb6097f08fff3e04f0b6ee94a2c84cf4416000"
   },
   "outputs": [],
   "source": []
  }
 ],
 "metadata": {
  "kernelspec": {
   "display_name": "Python 3",
   "language": "python",
   "name": "python3"
  },
  "language_info": {
   "codemirror_mode": {
    "name": "ipython",
    "version": 3
   },
   "file_extension": ".py",
   "mimetype": "text/x-python",
   "name": "python",
   "nbconvert_exporter": "python",
   "pygments_lexer": "ipython3",
   "version": "3.7.6"
  }
 },
 "nbformat": 4,
 "nbformat_minor": 1
}
