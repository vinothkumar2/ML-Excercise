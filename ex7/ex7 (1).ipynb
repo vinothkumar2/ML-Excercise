{
  "metadata": {
    "kernelspec": {
      "display_name": "Python 3",
      "language": "python",
      "name": "python3"
    },
    "language_info": {
      "name": "python",
      "version": "3.6.6",
      "mimetype": "text/x-python",
      "codemirror_mode": {
        "name": "ipython",
        "version": 3
      },
      "pygments_lexer": "ipython3",
      "nbconvert_exporter": "python",
      "file_extension": ".py"
    },
    "colab": {
      "name": "ex7.ipynb",
      "provenance": [],
      "collapsed_sections": [
        "dUJgQw0TATqT"
      ]
    }
  },
  "nbformat_minor": 0,
  "nbformat": 4,
  "cells": [
    {
      "cell_type": "markdown",
      "source": [
        "### Importing Packages"
      ],
      "metadata": {
        "_uuid": "1403135d321b059084d6416c5fadcd8d79bd5d49",
        "id": "Sd1V2QPYATpl"
      }
    },
    {
      "cell_type": "code",
      "source": [
        "import numpy as np # linear algebra\n",
        "import pandas as pd # data processing, CSV file I/O (e.g. pd.read_csv)\n",
        "import matplotlib.pyplot as plt\n",
        "\n",
        "from sklearn.feature_extraction.text import CountVectorizer\n",
        "from sklearn.model_selection import train_test_split\n",
        "from sklearn.linear_model import LogisticRegression\n",
        "from sklearn.preprocessing import LabelEncoder\n",
        "from sklearn.preprocessing import OneHotEncoder\n",
        "from sklearn.model_selection import RandomizedSearchCV\n",
        "\n",
        "import tensorflow as tf\n",
        "from tensorflow.keras.models import Sequential\n",
        "from tensorflow.keras import layers\n",
        "from tensorflow.keras.preprocessing.text import Tokenizer\n",
        "from tensorflow.keras.preprocessing.sequence import pad_sequences\n",
        "from tensorflow.keras.wrappers.scikit_learn import KerasClassifier\n",
        "\n",
        "import os\n",
        "# print(os.listdir(\"../input\"))\n",
        "plt.style.use('ggplot')"
      ],
      "metadata": {
        "_uuid": "8f2839f25d086af736a60e9eeb907d3b93b6e0e5",
        "_cell_guid": "b1076dfc-b9ad-4769-8c92-a6c4dae69d19",
        "execution": {
          "iopub.status.busy": "2021-10-19T21:25:47.930631Z",
          "iopub.execute_input": "2021-10-19T21:25:47.931096Z",
          "iopub.status.idle": "2021-10-19T21:25:47.939334Z",
          "shell.execute_reply.started": "2021-10-19T21:25:47.931050Z",
          "shell.execute_reply": "2021-10-19T21:25:47.938654Z"
        },
        "trusted": true,
        "id": "GaoAIPQiATpn"
      },
      "execution_count": 25,
      "outputs": []
    },
    {
      "cell_type": "markdown",
      "source": [
        "Extract the folder into a data folder and go ahead and load the data with Pandas:"
      ],
      "metadata": {
        "_uuid": "95d949291c93842c872d9dcee6924ff56024cf8a",
        "id": "xvbQJciNATpr"
      }
    },
    {
      "cell_type": "code",
      "source": [
        "filepath_dict = {'yelp':   '../input/yelp_labelled.txt',\n",
        "                 'amazon': '../input/amazon_cells_labelled.txt',\n",
        "                 'imdb':   '../input/imdb_labelled.txt'}\n",
        "\n",
        "df_list = []\n",
        "for source, filepath in filepath_dict.items():\n",
        "    df = pd.read_csv(filepath, names=['sentence', 'label'], sep='\\t')\n",
        "    df['source'] = source\n",
        "    df_list.append(df)"
      ],
      "metadata": {
        "_cell_guid": "79c7e3d0-c299-4dcb-8224-4455121ee9b0",
        "_uuid": "d629ff2d2480ee46fbb7e2d37f6b5fab8052498a",
        "execution": {
          "iopub.status.busy": "2021-10-19T21:25:47.940594Z",
          "iopub.execute_input": "2021-10-19T21:25:47.941059Z",
          "iopub.status.idle": "2021-10-19T21:25:47.974336Z",
          "shell.execute_reply.started": "2021-10-19T21:25:47.941003Z",
          "shell.execute_reply": "2021-10-19T21:25:47.973625Z"
        },
        "trusted": true,
        "id": "EfJZM3HoATpt"
      },
      "execution_count": 26,
      "outputs": []
    },
    {
      "cell_type": "code",
      "source": [
        "df_list"
      ],
      "metadata": {
        "trusted": true,
        "id": "O8yauZhNATpu",
        "colab": {
          "base_uri": "https://localhost:8080/"
        },
        "outputId": "6be33ec9-1a0f-4079-b5ae-4c760692fbea"
      },
      "execution_count": 27,
      "outputs": [
        {
          "output_type": "execute_result",
          "data": {
            "text/plain": [
              "[                                              sentence  label source\n",
              " 0                             Wow... Loved this place.      1   yelp\n",
              " 1                                   Crust is not good.      0   yelp\n",
              " 2            Not tasty and the texture was just nasty.      0   yelp\n",
              " 3    Stopped by during the late May bank holiday of...      1   yelp\n",
              " 4    The selection on the menu was great and so wer...      1   yelp\n",
              " ..                                                 ...    ...    ...\n",
              " 995  I think food should have flavor and texture an...      0   yelp\n",
              " 996                           Appetite instantly gone.      0   yelp\n",
              " 997  Overall I was not impressed and would not go b...      0   yelp\n",
              " 998  The whole experience was underwhelming, and I ...      0   yelp\n",
              " 999  Then, as if I hadn't wasted enough of my life ...      0   yelp\n",
              " \n",
              " [1000 rows x 3 columns],\n",
              "                                               sentence  label  source\n",
              " 0    So there is no way for me to plug it in here i...      0  amazon\n",
              " 1                          Good case, Excellent value.      1  amazon\n",
              " 2                               Great for the jawbone.      1  amazon\n",
              " 3    Tied to charger for conversations lasting more...      0  amazon\n",
              " 4                                    The mic is great.      1  amazon\n",
              " ..                                                 ...    ...     ...\n",
              " 995  The screen does get smudged easily because it ...      0  amazon\n",
              " 996  What a piece of junk.. I lose more calls on th...      0  amazon\n",
              " 997                       Item Does Not Match Picture.      0  amazon\n",
              " 998  The only thing that disappoint me is the infra...      0  amazon\n",
              " 999  You can not answer calls with the unit, never ...      0  amazon\n",
              " \n",
              " [1000 rows x 3 columns],\n",
              "                                               sentence  label source\n",
              " 0    A very, very, very slow-moving, aimless movie ...      0   imdb\n",
              " 1    Not sure who was more lost - the flat characte...      0   imdb\n",
              " 2    Attempting artiness with black & white and cle...      0   imdb\n",
              " 3         Very little music or anything to speak of.        0   imdb\n",
              " 4    The best scene in the movie was when Gerardo i...      1   imdb\n",
              " ..                                                 ...    ...    ...\n",
              " 743  I just got bored watching Jessice Lange take h...      0   imdb\n",
              " 744  Unfortunately, any virtue in this film's produ...      0   imdb\n",
              " 745                   In a word, it is embarrassing.        0   imdb\n",
              " 746                               Exceptionally bad!        0   imdb\n",
              " 747  All in all its an insult to one's intelligence...      0   imdb\n",
              " \n",
              " [748 rows x 3 columns]]"
            ]
          },
          "metadata": {},
          "execution_count": 27
        }
      ]
    },
    {
      "cell_type": "code",
      "source": [
        "df = pd.concat(df_list)\n",
        "df.iloc[0]"
      ],
      "metadata": {
        "_uuid": "2d45133c8888889283e3c042c2e8d140a09e58ad",
        "execution": {
          "iopub.status.busy": "2021-10-19T21:25:47.981831Z",
          "iopub.execute_input": "2021-10-19T21:25:47.982268Z",
          "iopub.status.idle": "2021-10-19T21:25:48.001816Z",
          "shell.execute_reply.started": "2021-10-19T21:25:47.982215Z",
          "shell.execute_reply": "2021-10-19T21:25:48.000971Z"
        },
        "trusted": true,
        "id": "WG-I-JK3ATpw",
        "colab": {
          "base_uri": "https://localhost:8080/"
        },
        "outputId": "f271504d-5d64-42a4-ef8d-71735cf79c42"
      },
      "execution_count": 28,
      "outputs": [
        {
          "output_type": "execute_result",
          "data": {
            "text/plain": [
              "sentence    Wow... Loved this place.\n",
              "label                              1\n",
              "source                          yelp\n",
              "Name: 0, dtype: object"
            ]
          },
          "metadata": {},
          "execution_count": 28
        }
      ]
    },
    {
      "cell_type": "code",
      "source": [
        "df.head()"
      ],
      "metadata": {
        "_uuid": "1684d66bd7450cf5c0c7424f70738bcb6c902d9b",
        "execution": {
          "iopub.status.busy": "2021-10-19T21:25:48.003099Z",
          "iopub.execute_input": "2021-10-19T21:25:48.003473Z",
          "iopub.status.idle": "2021-10-19T21:25:48.024000Z",
          "shell.execute_reply.started": "2021-10-19T21:25:48.003320Z",
          "shell.execute_reply": "2021-10-19T21:25:48.023388Z"
        },
        "trusted": true,
        "id": "1WLYcHiIATp1",
        "colab": {
          "base_uri": "https://localhost:8080/",
          "height": 206
        },
        "outputId": "93c1b2a0-f8b0-4f6a-9844-2038a580d9ba"
      },
      "execution_count": 29,
      "outputs": [
        {
          "output_type": "execute_result",
          "data": {
            "text/plain": [
              "                                            sentence  label source\n",
              "0                           Wow... Loved this place.      1   yelp\n",
              "1                                 Crust is not good.      0   yelp\n",
              "2          Not tasty and the texture was just nasty.      0   yelp\n",
              "3  Stopped by during the late May bank holiday of...      1   yelp\n",
              "4  The selection on the menu was great and so wer...      1   yelp"
            ],
            "text/html": [
              "\n",
              "  <div id=\"df-5ab035a6-fe72-4f0c-a06d-442f51d514aa\">\n",
              "    <div class=\"colab-df-container\">\n",
              "      <div>\n",
              "<style scoped>\n",
              "    .dataframe tbody tr th:only-of-type {\n",
              "        vertical-align: middle;\n",
              "    }\n",
              "\n",
              "    .dataframe tbody tr th {\n",
              "        vertical-align: top;\n",
              "    }\n",
              "\n",
              "    .dataframe thead th {\n",
              "        text-align: right;\n",
              "    }\n",
              "</style>\n",
              "<table border=\"1\" class=\"dataframe\">\n",
              "  <thead>\n",
              "    <tr style=\"text-align: right;\">\n",
              "      <th></th>\n",
              "      <th>sentence</th>\n",
              "      <th>label</th>\n",
              "      <th>source</th>\n",
              "    </tr>\n",
              "  </thead>\n",
              "  <tbody>\n",
              "    <tr>\n",
              "      <th>0</th>\n",
              "      <td>Wow... Loved this place.</td>\n",
              "      <td>1</td>\n",
              "      <td>yelp</td>\n",
              "    </tr>\n",
              "    <tr>\n",
              "      <th>1</th>\n",
              "      <td>Crust is not good.</td>\n",
              "      <td>0</td>\n",
              "      <td>yelp</td>\n",
              "    </tr>\n",
              "    <tr>\n",
              "      <th>2</th>\n",
              "      <td>Not tasty and the texture was just nasty.</td>\n",
              "      <td>0</td>\n",
              "      <td>yelp</td>\n",
              "    </tr>\n",
              "    <tr>\n",
              "      <th>3</th>\n",
              "      <td>Stopped by during the late May bank holiday of...</td>\n",
              "      <td>1</td>\n",
              "      <td>yelp</td>\n",
              "    </tr>\n",
              "    <tr>\n",
              "      <th>4</th>\n",
              "      <td>The selection on the menu was great and so wer...</td>\n",
              "      <td>1</td>\n",
              "      <td>yelp</td>\n",
              "    </tr>\n",
              "  </tbody>\n",
              "</table>\n",
              "</div>\n",
              "      <button class=\"colab-df-convert\" onclick=\"convertToInteractive('df-5ab035a6-fe72-4f0c-a06d-442f51d514aa')\"\n",
              "              title=\"Convert this dataframe to an interactive table.\"\n",
              "              style=\"display:none;\">\n",
              "        \n",
              "  <svg xmlns=\"http://www.w3.org/2000/svg\" height=\"24px\"viewBox=\"0 0 24 24\"\n",
              "       width=\"24px\">\n",
              "    <path d=\"M0 0h24v24H0V0z\" fill=\"none\"/>\n",
              "    <path d=\"M18.56 5.44l.94 2.06.94-2.06 2.06-.94-2.06-.94-.94-2.06-.94 2.06-2.06.94zm-11 1L8.5 8.5l.94-2.06 2.06-.94-2.06-.94L8.5 2.5l-.94 2.06-2.06.94zm10 10l.94 2.06.94-2.06 2.06-.94-2.06-.94-.94-2.06-.94 2.06-2.06.94z\"/><path d=\"M17.41 7.96l-1.37-1.37c-.4-.4-.92-.59-1.43-.59-.52 0-1.04.2-1.43.59L10.3 9.45l-7.72 7.72c-.78.78-.78 2.05 0 2.83L4 21.41c.39.39.9.59 1.41.59.51 0 1.02-.2 1.41-.59l7.78-7.78 2.81-2.81c.8-.78.8-2.07 0-2.86zM5.41 20L4 18.59l7.72-7.72 1.47 1.35L5.41 20z\"/>\n",
              "  </svg>\n",
              "      </button>\n",
              "      \n",
              "  <style>\n",
              "    .colab-df-container {\n",
              "      display:flex;\n",
              "      flex-wrap:wrap;\n",
              "      gap: 12px;\n",
              "    }\n",
              "\n",
              "    .colab-df-convert {\n",
              "      background-color: #E8F0FE;\n",
              "      border: none;\n",
              "      border-radius: 50%;\n",
              "      cursor: pointer;\n",
              "      display: none;\n",
              "      fill: #1967D2;\n",
              "      height: 32px;\n",
              "      padding: 0 0 0 0;\n",
              "      width: 32px;\n",
              "    }\n",
              "\n",
              "    .colab-df-convert:hover {\n",
              "      background-color: #E2EBFA;\n",
              "      box-shadow: 0px 1px 2px rgba(60, 64, 67, 0.3), 0px 1px 3px 1px rgba(60, 64, 67, 0.15);\n",
              "      fill: #174EA6;\n",
              "    }\n",
              "\n",
              "    [theme=dark] .colab-df-convert {\n",
              "      background-color: #3B4455;\n",
              "      fill: #D2E3FC;\n",
              "    }\n",
              "\n",
              "    [theme=dark] .colab-df-convert:hover {\n",
              "      background-color: #434B5C;\n",
              "      box-shadow: 0px 1px 3px 1px rgba(0, 0, 0, 0.15);\n",
              "      filter: drop-shadow(0px 1px 2px rgba(0, 0, 0, 0.3));\n",
              "      fill: #FFFFFF;\n",
              "    }\n",
              "  </style>\n",
              "\n",
              "      <script>\n",
              "        const buttonEl =\n",
              "          document.querySelector('#df-5ab035a6-fe72-4f0c-a06d-442f51d514aa button.colab-df-convert');\n",
              "        buttonEl.style.display =\n",
              "          google.colab.kernel.accessAllowed ? 'block' : 'none';\n",
              "\n",
              "        async function convertToInteractive(key) {\n",
              "          const element = document.querySelector('#df-5ab035a6-fe72-4f0c-a06d-442f51d514aa');\n",
              "          const dataTable =\n",
              "            await google.colab.kernel.invokeFunction('convertToInteractive',\n",
              "                                                     [key], {});\n",
              "          if (!dataTable) return;\n",
              "\n",
              "          const docLinkHtml = 'Like what you see? Visit the ' +\n",
              "            '<a target=\"_blank\" href=https://colab.research.google.com/notebooks/data_table.ipynb>data table notebook</a>'\n",
              "            + ' to learn more about interactive tables.';\n",
              "          element.innerHTML = '';\n",
              "          dataTable['output_type'] = 'display_data';\n",
              "          await google.colab.output.renderOutput(dataTable, element);\n",
              "          const docLink = document.createElement('div');\n",
              "          docLink.innerHTML = docLinkHtml;\n",
              "          element.appendChild(docLink);\n",
              "        }\n",
              "      </script>\n",
              "    </div>\n",
              "  </div>\n",
              "  "
            ]
          },
          "metadata": {},
          "execution_count": 29
        }
      ]
    },
    {
      "cell_type": "code",
      "source": [
        "df.tail()"
      ],
      "metadata": {
        "_uuid": "dea68a159b037cc68a1abe904acf9582fe4a373d",
        "execution": {
          "iopub.status.busy": "2021-10-19T21:25:48.024896Z",
          "iopub.execute_input": "2021-10-19T21:25:48.025226Z",
          "iopub.status.idle": "2021-10-19T21:25:48.041157Z",
          "shell.execute_reply.started": "2021-10-19T21:25:48.025191Z",
          "shell.execute_reply": "2021-10-19T21:25:48.040304Z"
        },
        "trusted": true,
        "id": "UV_yzn0QATp3",
        "colab": {
          "base_uri": "https://localhost:8080/",
          "height": 206
        },
        "outputId": "d7102a65-7686-4ea3-f17b-3dab71611e01"
      },
      "execution_count": 30,
      "outputs": [
        {
          "output_type": "execute_result",
          "data": {
            "text/plain": [
              "                                              sentence  label source\n",
              "743  I just got bored watching Jessice Lange take h...      0   imdb\n",
              "744  Unfortunately, any virtue in this film's produ...      0   imdb\n",
              "745                   In a word, it is embarrassing.        0   imdb\n",
              "746                               Exceptionally bad!        0   imdb\n",
              "747  All in all its an insult to one's intelligence...      0   imdb"
            ],
            "text/html": [
              "\n",
              "  <div id=\"df-521f9928-f3cd-4afe-873a-7389bb0e462a\">\n",
              "    <div class=\"colab-df-container\">\n",
              "      <div>\n",
              "<style scoped>\n",
              "    .dataframe tbody tr th:only-of-type {\n",
              "        vertical-align: middle;\n",
              "    }\n",
              "\n",
              "    .dataframe tbody tr th {\n",
              "        vertical-align: top;\n",
              "    }\n",
              "\n",
              "    .dataframe thead th {\n",
              "        text-align: right;\n",
              "    }\n",
              "</style>\n",
              "<table border=\"1\" class=\"dataframe\">\n",
              "  <thead>\n",
              "    <tr style=\"text-align: right;\">\n",
              "      <th></th>\n",
              "      <th>sentence</th>\n",
              "      <th>label</th>\n",
              "      <th>source</th>\n",
              "    </tr>\n",
              "  </thead>\n",
              "  <tbody>\n",
              "    <tr>\n",
              "      <th>743</th>\n",
              "      <td>I just got bored watching Jessice Lange take h...</td>\n",
              "      <td>0</td>\n",
              "      <td>imdb</td>\n",
              "    </tr>\n",
              "    <tr>\n",
              "      <th>744</th>\n",
              "      <td>Unfortunately, any virtue in this film's produ...</td>\n",
              "      <td>0</td>\n",
              "      <td>imdb</td>\n",
              "    </tr>\n",
              "    <tr>\n",
              "      <th>745</th>\n",
              "      <td>In a word, it is embarrassing.</td>\n",
              "      <td>0</td>\n",
              "      <td>imdb</td>\n",
              "    </tr>\n",
              "    <tr>\n",
              "      <th>746</th>\n",
              "      <td>Exceptionally bad!</td>\n",
              "      <td>0</td>\n",
              "      <td>imdb</td>\n",
              "    </tr>\n",
              "    <tr>\n",
              "      <th>747</th>\n",
              "      <td>All in all its an insult to one's intelligence...</td>\n",
              "      <td>0</td>\n",
              "      <td>imdb</td>\n",
              "    </tr>\n",
              "  </tbody>\n",
              "</table>\n",
              "</div>\n",
              "      <button class=\"colab-df-convert\" onclick=\"convertToInteractive('df-521f9928-f3cd-4afe-873a-7389bb0e462a')\"\n",
              "              title=\"Convert this dataframe to an interactive table.\"\n",
              "              style=\"display:none;\">\n",
              "        \n",
              "  <svg xmlns=\"http://www.w3.org/2000/svg\" height=\"24px\"viewBox=\"0 0 24 24\"\n",
              "       width=\"24px\">\n",
              "    <path d=\"M0 0h24v24H0V0z\" fill=\"none\"/>\n",
              "    <path d=\"M18.56 5.44l.94 2.06.94-2.06 2.06-.94-2.06-.94-.94-2.06-.94 2.06-2.06.94zm-11 1L8.5 8.5l.94-2.06 2.06-.94-2.06-.94L8.5 2.5l-.94 2.06-2.06.94zm10 10l.94 2.06.94-2.06 2.06-.94-2.06-.94-.94-2.06-.94 2.06-2.06.94z\"/><path d=\"M17.41 7.96l-1.37-1.37c-.4-.4-.92-.59-1.43-.59-.52 0-1.04.2-1.43.59L10.3 9.45l-7.72 7.72c-.78.78-.78 2.05 0 2.83L4 21.41c.39.39.9.59 1.41.59.51 0 1.02-.2 1.41-.59l7.78-7.78 2.81-2.81c.8-.78.8-2.07 0-2.86zM5.41 20L4 18.59l7.72-7.72 1.47 1.35L5.41 20z\"/>\n",
              "  </svg>\n",
              "      </button>\n",
              "      \n",
              "  <style>\n",
              "    .colab-df-container {\n",
              "      display:flex;\n",
              "      flex-wrap:wrap;\n",
              "      gap: 12px;\n",
              "    }\n",
              "\n",
              "    .colab-df-convert {\n",
              "      background-color: #E8F0FE;\n",
              "      border: none;\n",
              "      border-radius: 50%;\n",
              "      cursor: pointer;\n",
              "      display: none;\n",
              "      fill: #1967D2;\n",
              "      height: 32px;\n",
              "      padding: 0 0 0 0;\n",
              "      width: 32px;\n",
              "    }\n",
              "\n",
              "    .colab-df-convert:hover {\n",
              "      background-color: #E2EBFA;\n",
              "      box-shadow: 0px 1px 2px rgba(60, 64, 67, 0.3), 0px 1px 3px 1px rgba(60, 64, 67, 0.15);\n",
              "      fill: #174EA6;\n",
              "    }\n",
              "\n",
              "    [theme=dark] .colab-df-convert {\n",
              "      background-color: #3B4455;\n",
              "      fill: #D2E3FC;\n",
              "    }\n",
              "\n",
              "    [theme=dark] .colab-df-convert:hover {\n",
              "      background-color: #434B5C;\n",
              "      box-shadow: 0px 1px 3px 1px rgba(0, 0, 0, 0.15);\n",
              "      filter: drop-shadow(0px 1px 2px rgba(0, 0, 0, 0.3));\n",
              "      fill: #FFFFFF;\n",
              "    }\n",
              "  </style>\n",
              "\n",
              "      <script>\n",
              "        const buttonEl =\n",
              "          document.querySelector('#df-521f9928-f3cd-4afe-873a-7389bb0e462a button.colab-df-convert');\n",
              "        buttonEl.style.display =\n",
              "          google.colab.kernel.accessAllowed ? 'block' : 'none';\n",
              "\n",
              "        async function convertToInteractive(key) {\n",
              "          const element = document.querySelector('#df-521f9928-f3cd-4afe-873a-7389bb0e462a');\n",
              "          const dataTable =\n",
              "            await google.colab.kernel.invokeFunction('convertToInteractive',\n",
              "                                                     [key], {});\n",
              "          if (!dataTable) return;\n",
              "\n",
              "          const docLinkHtml = 'Like what you see? Visit the ' +\n",
              "            '<a target=\"_blank\" href=https://colab.research.google.com/notebooks/data_table.ipynb>data table notebook</a>'\n",
              "            + ' to learn more about interactive tables.';\n",
              "          element.innerHTML = '';\n",
              "          dataTable['output_type'] = 'display_data';\n",
              "          await google.colab.output.renderOutput(dataTable, element);\n",
              "          const docLink = document.createElement('div');\n",
              "          docLink.innerHTML = docLinkHtml;\n",
              "          element.appendChild(docLink);\n",
              "        }\n",
              "      </script>\n",
              "    </div>\n",
              "  </div>\n",
              "  "
            ]
          },
          "metadata": {},
          "execution_count": 30
        }
      ]
    },
    {
      "cell_type": "markdown",
      "source": [
        "Now use the `CountVectorizer` provided by the `scikit-learn` library to vectorize sentences. It takes the words of each sentence and creates a vocabulary of all the unique words in the sentences. This vocabulary can then be used to create a feature vector of the count of the words:"
      ],
      "metadata": {
        "_uuid": "a90fbb437a4b0aab75956ef2be014a8a4fa81fc4",
        "id": "I6DLPzNnATp8"
      }
    },
    {
      "cell_type": "code",
      "source": [
        "sentences = ['Rashmi likes ice cream', 'Rashmi hates chocolate.']"
      ],
      "metadata": {
        "_uuid": "b6090a1d36e488302b8f6fc9d1841cfc72ca0494",
        "execution": {
          "iopub.status.busy": "2021-10-19T21:25:48.042666Z",
          "iopub.execute_input": "2021-10-19T21:25:48.042968Z",
          "iopub.status.idle": "2021-10-19T21:25:48.046486Z",
          "shell.execute_reply.started": "2021-10-19T21:25:48.042889Z",
          "shell.execute_reply": "2021-10-19T21:25:48.045664Z"
        },
        "trusted": true,
        "id": "A0k5nkDPATp-"
      },
      "execution_count": 31,
      "outputs": []
    },
    {
      "cell_type": "code",
      "source": [
        "vectorizer = CountVectorizer(min_df=0, lowercase=False)\n",
        "vectorizer.fit(sentences)\n",
        "vectorizer.vocabulary_"
      ],
      "metadata": {
        "_uuid": "5b1fbb71e22940fef0c4c1475a03f9c49a44450e",
        "execution": {
          "iopub.status.busy": "2021-10-19T21:25:48.047808Z",
          "iopub.execute_input": "2021-10-19T21:25:48.048171Z",
          "iopub.status.idle": "2021-10-19T21:25:48.065139Z",
          "shell.execute_reply.started": "2021-10-19T21:25:48.048133Z",
          "shell.execute_reply": "2021-10-19T21:25:48.064449Z"
        },
        "trusted": true,
        "id": "4qOc7y5BATqA",
        "colab": {
          "base_uri": "https://localhost:8080/"
        },
        "outputId": "a17bf8ec-4b04-4d93-8c69-5d7fad853d37"
      },
      "execution_count": 32,
      "outputs": [
        {
          "output_type": "execute_result",
          "data": {
            "text/plain": [
              "{'Rashmi': 0, 'chocolate': 1, 'cream': 2, 'hates': 3, 'ice': 4, 'likes': 5}"
            ]
          },
          "metadata": {},
          "execution_count": 32
        }
      ]
    },
    {
      "cell_type": "code",
      "source": [
        "vectorizer.transform(sentences).toarray()"
      ],
      "metadata": {
        "_uuid": "a03c3dcbba4389bf4c813c90d97fc4c314cab99b",
        "execution": {
          "iopub.status.busy": "2021-10-19T21:25:48.066491Z",
          "iopub.execute_input": "2021-10-19T21:25:48.066856Z",
          "iopub.status.idle": "2021-10-19T21:25:48.073217Z",
          "shell.execute_reply.started": "2021-10-19T21:25:48.066815Z",
          "shell.execute_reply": "2021-10-19T21:25:48.072509Z"
        },
        "trusted": true,
        "id": "YAKQ4wNBATqB",
        "colab": {
          "base_uri": "https://localhost:8080/"
        },
        "outputId": "bad03538-e345-45da-f79c-b68db19a235c"
      },
      "execution_count": 33,
      "outputs": [
        {
          "output_type": "execute_result",
          "data": {
            "text/plain": [
              "array([[1, 0, 1, 0, 1, 1],\n",
              "       [1, 1, 0, 1, 0, 0]])"
            ]
          },
          "metadata": {},
          "execution_count": 33
        }
      ]
    },
    {
      "cell_type": "markdown",
      "source": [
        "## Defining a Baseline Model"
      ],
      "metadata": {
        "_uuid": "884e3028489cb93b5e510f520dd927b2307d0efd",
        "id": "mybpP66-ATqD"
      }
    },
    {
      "cell_type": "markdown",
      "source": [
        "First, you are going to split the data into a training and testing set which will allow you to evaluate the accuracy and see if your model generalizes well. This means whether the model is able to perform well on data it has not seen before. This is a way to see if the model is overfitting.\n",
        "\n",
        "**Overfitting** is when a model is trained too well on the training data. You want to avoid overfitting, as this would mean that the model mostly just memorized the training data. This would account for a large accuracy with the training data but a low accuracy in the testing data. "
      ],
      "metadata": {
        "_uuid": "fefb1c692c451e2b21e312a1d32ee219d5d1fd25",
        "id": "OxBmJPM_ATqE"
      }
    },
    {
      "cell_type": "markdown",
      "source": [
        "We start by taking the Yelp data set which we extract from our concatenated data set. From there, we take the sentences and labels."
      ],
      "metadata": {
        "_uuid": "fba1581075a612406133d1e3019520e94dd7bb7d",
        "id": "QPOPkDRiATqF"
      }
    },
    {
      "cell_type": "code",
      "source": [
        "df_yelp = df[df['source'] == 'yelp']\n",
        "sentences = df_yelp['sentence'].values\n",
        "y = df_yelp['label'].values\n",
        "\n",
        "sentences_train, sentences_test, y_train, y_test = train_test_split(sentences, y, test_size=0.25, random_state=1000)"
      ],
      "metadata": {
        "_uuid": "448e856394ba4bc54b2471cad81832c6689b0d4b",
        "execution": {
          "iopub.status.busy": "2021-10-19T21:25:48.074504Z",
          "iopub.execute_input": "2021-10-19T21:25:48.074942Z",
          "iopub.status.idle": "2021-10-19T21:25:48.084463Z",
          "shell.execute_reply.started": "2021-10-19T21:25:48.074891Z",
          "shell.execute_reply": "2021-10-19T21:25:48.083766Z"
        },
        "trusted": true,
        "id": "gotz35yhATqG"
      },
      "execution_count": 34,
      "outputs": []
    },
    {
      "cell_type": "markdown",
      "source": [
        "Create the feature vectors for each sentence of the training and testing set:"
      ],
      "metadata": {
        "_uuid": "a47b7b5e21a856c3ebfce257f1ed483b5fe0082f",
        "trusted": true,
        "id": "8VxdGP4DATqH"
      }
    },
    {
      "cell_type": "code",
      "source": [
        "vectorizer = CountVectorizer()\n",
        "vectorizer.fit(sentences_train)\n",
        "\n",
        "X_train = vectorizer.transform(sentences_train)\n",
        "X_test  = vectorizer.transform(sentences_test)"
      ],
      "metadata": {
        "_uuid": "c5e6910c1a590924b9e8d5995656ac240287da02",
        "execution": {
          "iopub.status.busy": "2021-10-19T21:25:48.086010Z",
          "iopub.execute_input": "2021-10-19T21:25:48.086494Z",
          "iopub.status.idle": "2021-10-19T21:25:48.133470Z",
          "shell.execute_reply.started": "2021-10-19T21:25:48.086440Z",
          "shell.execute_reply": "2021-10-19T21:25:48.132740Z"
        },
        "trusted": true,
        "id": "QED1vsWoATqI"
      },
      "execution_count": 35,
      "outputs": []
    },
    {
      "cell_type": "code",
      "source": [
        "X_train"
      ],
      "metadata": {
        "_uuid": "1dc1882c7c6b68fe78729fc2625a06300cd76246",
        "execution": {
          "iopub.status.busy": "2021-10-19T21:25:48.134541Z",
          "iopub.execute_input": "2021-10-19T21:25:48.134955Z",
          "iopub.status.idle": "2021-10-19T21:25:48.139800Z",
          "shell.execute_reply.started": "2021-10-19T21:25:48.134916Z",
          "shell.execute_reply": "2021-10-19T21:25:48.139012Z"
        },
        "trusted": true,
        "id": "ATq7gFLFATqJ",
        "colab": {
          "base_uri": "https://localhost:8080/"
        },
        "outputId": "0e21c26c-4a1c-4d14-a2c3-e5f236731791"
      },
      "execution_count": 36,
      "outputs": [
        {
          "output_type": "execute_result",
          "data": {
            "text/plain": [
              "<750x1715 sparse matrix of type '<class 'numpy.int64'>'\n",
              "\twith 7369 stored elements in Compressed Sparse Row format>"
            ]
          },
          "metadata": {},
          "execution_count": 36
        }
      ]
    },
    {
      "cell_type": "markdown",
      "source": [
        "`CountVectorizer` performs tokenization which separates the sentences into a set of **tokens**. It additionally removes punctuation and special characters and can apply other preprocessing to each word. If you want, you can use a custom tokenizer from the NLTK library with the CountVectorizer or use any number of the customizations which you can explore to improve the performance of your model."
      ],
      "metadata": {
        "_uuid": "ca45d1d9be1a9a76ccaabff5c2dee480a0f15cb5",
        "id": "frZfm4AVATqK"
      }
    },
    {
      "cell_type": "markdown",
      "source": [
        "The classification model we are going to use is the logistic regression which is a simple yet powerful linear model that is mathematically speaking in fact a form of regression between 0 and 1 based on the input feature vector. By specifying a cutoff value (by default 0.5), the regression model is used for classification. "
      ],
      "metadata": {
        "_uuid": "0b9f39f8beff24e9d5cc0bd2e91d59e730e70ed8",
        "id": "Nj2CKjTgATqL"
      }
    },
    {
      "cell_type": "code",
      "source": [
        "classifier = LogisticRegression()\n",
        "classifier.fit(X_train, y_train)\n",
        "score = classifier.score(X_test, y_test)\n",
        "\n",
        "print(\"Accuracy:\", score)"
      ],
      "metadata": {
        "_uuid": "db2f442632a368f7c0520dc795b80e956f26032f",
        "execution": {
          "iopub.status.busy": "2021-10-19T21:25:48.141071Z",
          "iopub.execute_input": "2021-10-19T21:25:48.141414Z",
          "iopub.status.idle": "2021-10-19T21:25:48.159859Z",
          "shell.execute_reply.started": "2021-10-19T21:25:48.141333Z",
          "shell.execute_reply": "2021-10-19T21:25:48.158931Z"
        },
        "trusted": true,
        "id": "z5zR313vATqM",
        "colab": {
          "base_uri": "https://localhost:8080/"
        },
        "outputId": "61eaec6f-15d8-49aa-f866-036b3e41152c"
      },
      "execution_count": 37,
      "outputs": [
        {
          "output_type": "stream",
          "name": "stdout",
          "text": [
            "Accuracy: 0.796\n"
          ]
        }
      ]
    },
    {
      "cell_type": "markdown",
      "source": [
        "You can see that the logistic regression reached an impressive 79.6%, but let’s have a look how this model performs on the other data sets that we have. In this script, we perform and evaluate the whole process for each data set that we have:"
      ],
      "metadata": {
        "_uuid": "0b534cd4551329ef0ffcaa2b13f0336d86dd6025",
        "id": "itvPCntQATqO"
      }
    },
    {
      "cell_type": "code",
      "source": [
        "for source in df['source'].unique():\n",
        "    df_source = df[df['source'] == source]\n",
        "    sentences = df_source['sentence'].values\n",
        "    y = df_source['label'].values\n",
        "\n",
        "    sentences_train, sentences_test, y_train, y_test = train_test_split(\n",
        "        sentences, y, test_size=0.25, random_state=1000)\n",
        "\n",
        "    vectorizer = CountVectorizer()\n",
        "    vectorizer.fit(sentences_train)\n",
        "    X_train = vectorizer.transform(sentences_train)\n",
        "    X_test  = vectorizer.transform(sentences_test)\n",
        "\n",
        "    classifier = LogisticRegression()\n",
        "    classifier.fit(X_train, y_train)\n",
        "    score = classifier.score(X_test, y_test)\n",
        "    print('Accuracy for {} data: {:.4f}'.format(source, score))"
      ],
      "metadata": {
        "_uuid": "2612ace5fb3fc3a15f1619ae6f7a12895821cd9d",
        "execution": {
          "iopub.status.busy": "2021-10-19T21:25:48.161237Z",
          "iopub.execute_input": "2021-10-19T21:25:48.161662Z",
          "iopub.status.idle": "2021-10-19T21:25:48.327463Z",
          "shell.execute_reply.started": "2021-10-19T21:25:48.161503Z",
          "shell.execute_reply": "2021-10-19T21:25:48.326567Z"
        },
        "trusted": true,
        "id": "_eCb6mkGATqP",
        "colab": {
          "base_uri": "https://localhost:8080/"
        },
        "outputId": "3dd2c6c4-a67a-4abc-f495-4ba4dfa0da50"
      },
      "execution_count": 38,
      "outputs": [
        {
          "output_type": "stream",
          "name": "stdout",
          "text": [
            "Accuracy for yelp data: 0.7960\n",
            "Accuracy for amazon data: 0.7960\n",
            "Accuracy for imdb data: 0.7487\n"
          ]
        }
      ]
    },
    {
      "cell_type": "markdown",
      "source": [
        "Great! You can see that this fairly simple model achieves a fairly good accuracy."
      ],
      "metadata": {
        "_uuid": "40150518b8c2f350daeac8043a489c237111431b",
        "id": "Sem9kKyJATqR"
      }
    },
    {
      "cell_type": "markdown",
      "source": [
        "## Introduction to Deep Neural Networks\n",
        "**Neural networks**, or sometimes called **artificial neural network (ANN)** or**feedforward neural network**, are computational networks which were vaguely inspired by the neural networks in the human brain. They consist of neurons (also called nodes) which are connected like in the graph below."
      ],
      "metadata": {
        "_uuid": "fd98829d49fdd69dbd9748c9767cbf4de01ddbd5",
        "id": "SrwLY71-ATqS"
      }
    },
    {
      "cell_type": "markdown",
      "source": [
        "\n",
        "\n",
        "\n",
        "\n",
        "You start by having a layer of input neurons where you feed in your feature vectors and the values are then feeded forward to a hidden layer. At each connection, you are feeding the value forward, while the value is multiplied by a weight and a bias is added to the value. This happens at every connection and at the end you reach an output layer with one or more output nodes.\n",
        "\n",
        "If you want to have a binary classification you can use one node, but if you have multiple categories you should use multiple nodes for each category:"
      ],
      "metadata": {
        "_uuid": "45af00ca1e9cdedd560eba5dde52cba51fdd4767",
        "id": "-OsIU2SHATqS"
      }
    },
    {
      "cell_type": "markdown",
      "source": [
        "### Introducing Keras\n",
        "\n",
        "Keras is a deep learning and neural networks API by François Chollet which is capable of running on top of Tensorflow (Google), Theano or CNTK (Microsoft). To quote the wonderful book by François Chollet, Deep Learning with Python:\n",
        "\n",
        "    Keras is a model-level library, providing high-level building blocks for developing deep-learning models. It doesn’t handle low-level operations such as tensor manipulation and differentiation. Instead, it relies on a specialized, well-optimized tensor library to do so, serving as the backend engine of Keras (Source)\n",
        "\n",
        "It is a great way to start experimenting with neural networks without having to implement every layer and piece on your own. For example Tensorflow is a great machine learning library, but you have to implement a lot of boilerplate code to have a model running."
      ],
      "metadata": {
        "_uuid": "b1220c0b5e7bb8fb1dd582634f90766eb170a339",
        "id": "dUJgQw0TATqT"
      }
    },
    {
      "cell_type": "markdown",
      "source": [
        "### First Keras Model\n",
        "\n",
        "Keras supports two main types of models. You have the Sequential model API and the functional API which can do everything of the Sequential model but it can be also used for advanced models with complex network architectures.\n",
        "\n",
        "The Sequential model is a linear stack of layers, where you can use the large variety of available layers in Keras. The most common layer is the Dense layer which is your regular densely connected neural network layer with all the weights and biases that you are already familiar with.\n",
        "\n",
        "Before we build our model, we need to know the input dimension of our feature vectors. This happens only in the first layer since the following layers can do automatic shape inference. In order to build the Sequential model, you can add layers one by one in order"
      ],
      "metadata": {
        "_uuid": "20a29d7bf57fb7d112268df29808183e552ec677",
        "id": "7lldiY4SATqV"
      }
    },
    {
      "cell_type": "code",
      "source": [
        "input_dim = X_train.shape[1]  # Number of features\n",
        "\n",
        "model = Sequential()\n",
        "model.add(layers.Dense(10, input_dim=input_dim, activation='relu'))\n",
        "model.add(layers.Dense(1, activation='sigmoid'))"
      ],
      "metadata": {
        "_uuid": "aac9e9b76e57a9fb86ddb47641c0b4162cb187a9",
        "execution": {
          "iopub.status.busy": "2021-10-19T21:25:48.329016Z",
          "iopub.execute_input": "2021-10-19T21:25:48.329639Z",
          "iopub.status.idle": "2021-10-19T21:25:48.415339Z",
          "shell.execute_reply.started": "2021-10-19T21:25:48.329579Z",
          "shell.execute_reply": "2021-10-19T21:25:48.414350Z"
        },
        "trusted": true,
        "id": "FKMoK6UqATqV"
      },
      "execution_count": 39,
      "outputs": []
    },
    {
      "cell_type": "code",
      "source": [
        "model.compile(loss='binary_crossentropy', \n",
        "              optimizer='adam', \n",
        "              metrics=['accuracy'])\n",
        "model.summary()"
      ],
      "metadata": {
        "_uuid": "ce727fbc7435f8067d25a941f62ddb9104b61b99",
        "execution": {
          "iopub.status.busy": "2021-10-19T21:25:48.416677Z",
          "iopub.execute_input": "2021-10-19T21:25:48.416958Z",
          "iopub.status.idle": "2021-10-19T21:25:48.538485Z",
          "shell.execute_reply.started": "2021-10-19T21:25:48.416906Z",
          "shell.execute_reply": "2021-10-19T21:25:48.537580Z"
        },
        "trusted": true,
        "id": "f0-_ENoMATqW",
        "colab": {
          "base_uri": "https://localhost:8080/"
        },
        "outputId": "124df69f-1397-4324-972f-7a5308015895"
      },
      "execution_count": 40,
      "outputs": [
        {
          "output_type": "stream",
          "name": "stdout",
          "text": [
            "Model: \"sequential_1\"\n",
            "_________________________________________________________________\n",
            " Layer (type)                Output Shape              Param #   \n",
            "=================================================================\n",
            " dense_2 (Dense)             (None, 10)                25090     \n",
            "                                                                 \n",
            " dense_3 (Dense)             (None, 1)                 11        \n",
            "                                                                 \n",
            "=================================================================\n",
            "Total params: 25,101\n",
            "Trainable params: 25,101\n",
            "Non-trainable params: 0\n",
            "_________________________________________________________________\n"
          ]
        }
      ]
    },
    {
      "cell_type": "code",
      "source": [
        "history = model.fit(X_train, y_train,\n",
        "                    epochs=100,\n",
        "                    verbose=True,\n",
        "                    validation_data=(X_test, y_test),\n",
        "                    batch_size=10)"
      ],
      "metadata": {
        "_uuid": "edebe70a32227f73b9ddd91e5f54691f7571ee82",
        "execution": {
          "iopub.status.busy": "2021-10-19T21:25:48.540048Z",
          "iopub.execute_input": "2021-10-19T21:25:48.540622Z",
          "iopub.status.idle": "2021-10-19T21:26:02.551926Z",
          "shell.execute_reply.started": "2021-10-19T21:25:48.540336Z",
          "shell.execute_reply": "2021-10-19T21:26:02.550821Z"
        },
        "trusted": true,
        "id": "fHXJZ4ZQATqX",
        "colab": {
          "base_uri": "https://localhost:8080/"
        },
        "outputId": "4cc54e14-f66b-45e9-c6a3-1428ae67b036"
      },
      "execution_count": 41,
      "outputs": [
        {
          "output_type": "stream",
          "name": "stdout",
          "text": [
            "Epoch 1/100\n"
          ]
        },
        {
          "output_type": "stream",
          "name": "stderr",
          "text": [
            "/usr/local/lib/python3.7/dist-packages/tensorflow/python/framework/indexed_slices.py:446: UserWarning: Converting sparse IndexedSlices(IndexedSlices(indices=Tensor(\"gradient_tape/sequential_1/dense_2/embedding_lookup_sparse/Reshape_1:0\", shape=(None,), dtype=int32), values=Tensor(\"gradient_tape/sequential_1/dense_2/embedding_lookup_sparse/Reshape:0\", shape=(None, 10), dtype=float32), dense_shape=Tensor(\"gradient_tape/sequential_1/dense_2/embedding_lookup_sparse/Cast:0\", shape=(2,), dtype=int32))) to a dense Tensor of unknown shape. This may consume a large amount of memory.\n",
            "  \"shape. This may consume a large amount of memory.\" % value)\n"
          ]
        },
        {
          "output_type": "stream",
          "name": "stdout",
          "text": [
            "57/57 [==============================] - 1s 6ms/step - loss: 0.6863 - accuracy: 0.5651 - val_loss: 0.6817 - val_accuracy: 0.5722\n",
            "Epoch 2/100\n",
            "57/57 [==============================] - 0s 3ms/step - loss: 0.6305 - accuracy: 0.7790 - val_loss: 0.6554 - val_accuracy: 0.6845\n",
            "Epoch 3/100\n",
            "57/57 [==============================] - 0s 3ms/step - loss: 0.5555 - accuracy: 0.8984 - val_loss: 0.6722 - val_accuracy: 0.6738\n",
            "Epoch 4/100\n",
            "57/57 [==============================] - 0s 3ms/step - loss: 0.4649 - accuracy: 0.9305 - val_loss: 0.6440 - val_accuracy: 0.7433\n",
            "Epoch 5/100\n",
            "57/57 [==============================] - 0s 3ms/step - loss: 0.3782 - accuracy: 0.9537 - val_loss: 0.6129 - val_accuracy: 0.7594\n",
            "Epoch 6/100\n",
            "57/57 [==============================] - 0s 3ms/step - loss: 0.3070 - accuracy: 0.9733 - val_loss: 0.6039 - val_accuracy: 0.7754\n",
            "Epoch 7/100\n",
            "57/57 [==============================] - 0s 3ms/step - loss: 0.2514 - accuracy: 0.9822 - val_loss: 0.5597 - val_accuracy: 0.7807\n",
            "Epoch 8/100\n",
            "57/57 [==============================] - 0s 3ms/step - loss: 0.2068 - accuracy: 0.9857 - val_loss: 0.5747 - val_accuracy: 0.7807\n",
            "Epoch 9/100\n",
            "57/57 [==============================] - 0s 3ms/step - loss: 0.1725 - accuracy: 0.9893 - val_loss: 0.5784 - val_accuracy: 0.7968\n",
            "Epoch 10/100\n",
            "57/57 [==============================] - 0s 3ms/step - loss: 0.1451 - accuracy: 0.9964 - val_loss: 0.5595 - val_accuracy: 0.8075\n",
            "Epoch 11/100\n",
            "57/57 [==============================] - 0s 4ms/step - loss: 0.1230 - accuracy: 0.9964 - val_loss: 0.5595 - val_accuracy: 0.7914\n",
            "Epoch 12/100\n",
            "57/57 [==============================] - 0s 3ms/step - loss: 0.1055 - accuracy: 0.9964 - val_loss: 0.5591 - val_accuracy: 0.8021\n",
            "Epoch 13/100\n",
            "57/57 [==============================] - 0s 3ms/step - loss: 0.0914 - accuracy: 0.9964 - val_loss: 0.5523 - val_accuracy: 0.8075\n",
            "Epoch 14/100\n",
            "57/57 [==============================] - 0s 3ms/step - loss: 0.0796 - accuracy: 0.9982 - val_loss: 0.5748 - val_accuracy: 0.8075\n",
            "Epoch 15/100\n",
            "57/57 [==============================] - 0s 3ms/step - loss: 0.0699 - accuracy: 0.9982 - val_loss: 0.5734 - val_accuracy: 0.8021\n",
            "Epoch 16/100\n",
            "57/57 [==============================] - 0s 3ms/step - loss: 0.0618 - accuracy: 0.9982 - val_loss: 0.5723 - val_accuracy: 0.8021\n",
            "Epoch 17/100\n",
            "57/57 [==============================] - 0s 3ms/step - loss: 0.0548 - accuracy: 0.9982 - val_loss: 0.5804 - val_accuracy: 0.8021\n",
            "Epoch 18/100\n",
            "57/57 [==============================] - 0s 3ms/step - loss: 0.0492 - accuracy: 0.9982 - val_loss: 0.5864 - val_accuracy: 0.8021\n",
            "Epoch 19/100\n",
            "57/57 [==============================] - 0s 3ms/step - loss: 0.0442 - accuracy: 0.9982 - val_loss: 0.5672 - val_accuracy: 0.8075\n",
            "Epoch 20/100\n",
            "57/57 [==============================] - 0s 3ms/step - loss: 0.0399 - accuracy: 0.9982 - val_loss: 0.5834 - val_accuracy: 0.8075\n",
            "Epoch 21/100\n",
            "57/57 [==============================] - 0s 3ms/step - loss: 0.0361 - accuracy: 0.9982 - val_loss: 0.5946 - val_accuracy: 0.8075\n",
            "Epoch 22/100\n",
            "57/57 [==============================] - 0s 3ms/step - loss: 0.0330 - accuracy: 0.9982 - val_loss: 0.5922 - val_accuracy: 0.8021\n",
            "Epoch 23/100\n",
            "57/57 [==============================] - 0s 3ms/step - loss: 0.0300 - accuracy: 0.9982 - val_loss: 0.6040 - val_accuracy: 0.7968\n",
            "Epoch 24/100\n",
            "57/57 [==============================] - 0s 4ms/step - loss: 0.0274 - accuracy: 0.9982 - val_loss: 0.5946 - val_accuracy: 0.7968\n",
            "Epoch 25/100\n",
            "57/57 [==============================] - 0s 3ms/step - loss: 0.0252 - accuracy: 0.9982 - val_loss: 0.6054 - val_accuracy: 0.7968\n",
            "Epoch 26/100\n",
            "57/57 [==============================] - 0s 3ms/step - loss: 0.0233 - accuracy: 0.9982 - val_loss: 0.6089 - val_accuracy: 0.7968\n",
            "Epoch 27/100\n",
            "57/57 [==============================] - 0s 3ms/step - loss: 0.0215 - accuracy: 0.9982 - val_loss: 0.6218 - val_accuracy: 0.7968\n",
            "Epoch 28/100\n",
            "57/57 [==============================] - 0s 4ms/step - loss: 0.0199 - accuracy: 0.9982 - val_loss: 0.6198 - val_accuracy: 0.8021\n",
            "Epoch 29/100\n",
            "57/57 [==============================] - 0s 3ms/step - loss: 0.0184 - accuracy: 0.9982 - val_loss: 0.6362 - val_accuracy: 0.7914\n",
            "Epoch 30/100\n",
            "57/57 [==============================] - 0s 3ms/step - loss: 0.0171 - accuracy: 0.9982 - val_loss: 0.6399 - val_accuracy: 0.7914\n",
            "Epoch 31/100\n",
            "57/57 [==============================] - 0s 3ms/step - loss: 0.0160 - accuracy: 0.9982 - val_loss: 0.6422 - val_accuracy: 0.7914\n",
            "Epoch 32/100\n",
            "57/57 [==============================] - 0s 4ms/step - loss: 0.0149 - accuracy: 0.9982 - val_loss: 0.6421 - val_accuracy: 0.7914\n",
            "Epoch 33/100\n",
            "57/57 [==============================] - 0s 3ms/step - loss: 0.0138 - accuracy: 0.9982 - val_loss: 0.6514 - val_accuracy: 0.7968\n",
            "Epoch 34/100\n",
            "57/57 [==============================] - 0s 4ms/step - loss: 0.0129 - accuracy: 0.9982 - val_loss: 0.6502 - val_accuracy: 0.7968\n",
            "Epoch 35/100\n",
            "57/57 [==============================] - 0s 3ms/step - loss: 0.0121 - accuracy: 0.9982 - val_loss: 0.6712 - val_accuracy: 0.7968\n",
            "Epoch 36/100\n",
            "57/57 [==============================] - 0s 3ms/step - loss: 0.0113 - accuracy: 0.9982 - val_loss: 0.6635 - val_accuracy: 0.7914\n",
            "Epoch 37/100\n",
            "57/57 [==============================] - 0s 3ms/step - loss: 0.0106 - accuracy: 0.9982 - val_loss: 0.6792 - val_accuracy: 0.7914\n",
            "Epoch 38/100\n",
            "57/57 [==============================] - 0s 3ms/step - loss: 0.0100 - accuracy: 1.0000 - val_loss: 0.6819 - val_accuracy: 0.7914\n",
            "Epoch 39/100\n",
            "57/57 [==============================] - 0s 3ms/step - loss: 0.0094 - accuracy: 1.0000 - val_loss: 0.6917 - val_accuracy: 0.7914\n",
            "Epoch 40/100\n",
            "57/57 [==============================] - 0s 3ms/step - loss: 0.0088 - accuracy: 1.0000 - val_loss: 0.6864 - val_accuracy: 0.7914\n",
            "Epoch 41/100\n",
            "57/57 [==============================] - 0s 4ms/step - loss: 0.0083 - accuracy: 1.0000 - val_loss: 0.6883 - val_accuracy: 0.7914\n",
            "Epoch 42/100\n",
            "57/57 [==============================] - 0s 4ms/step - loss: 0.0078 - accuracy: 1.0000 - val_loss: 0.7000 - val_accuracy: 0.7914\n",
            "Epoch 43/100\n",
            "57/57 [==============================] - 0s 3ms/step - loss: 0.0074 - accuracy: 1.0000 - val_loss: 0.6944 - val_accuracy: 0.7914\n",
            "Epoch 44/100\n",
            "57/57 [==============================] - 0s 3ms/step - loss: 0.0070 - accuracy: 1.0000 - val_loss: 0.7015 - val_accuracy: 0.7914\n",
            "Epoch 45/100\n",
            "57/57 [==============================] - 0s 3ms/step - loss: 0.0066 - accuracy: 1.0000 - val_loss: 0.7135 - val_accuracy: 0.7914\n",
            "Epoch 46/100\n",
            "57/57 [==============================] - 0s 3ms/step - loss: 0.0063 - accuracy: 1.0000 - val_loss: 0.7110 - val_accuracy: 0.7914\n",
            "Epoch 47/100\n",
            "57/57 [==============================] - 0s 3ms/step - loss: 0.0059 - accuracy: 1.0000 - val_loss: 0.7068 - val_accuracy: 0.7914\n",
            "Epoch 48/100\n",
            "57/57 [==============================] - 0s 3ms/step - loss: 0.0056 - accuracy: 1.0000 - val_loss: 0.7211 - val_accuracy: 0.7914\n",
            "Epoch 49/100\n",
            "57/57 [==============================] - 0s 3ms/step - loss: 0.0053 - accuracy: 1.0000 - val_loss: 0.7234 - val_accuracy: 0.7914\n",
            "Epoch 50/100\n",
            "57/57 [==============================] - 0s 3ms/step - loss: 0.0050 - accuracy: 1.0000 - val_loss: 0.7266 - val_accuracy: 0.7914\n",
            "Epoch 51/100\n",
            "57/57 [==============================] - 0s 4ms/step - loss: 0.0048 - accuracy: 1.0000 - val_loss: 0.7382 - val_accuracy: 0.7914\n",
            "Epoch 52/100\n",
            "57/57 [==============================] - 0s 3ms/step - loss: 0.0045 - accuracy: 1.0000 - val_loss: 0.7417 - val_accuracy: 0.7968\n",
            "Epoch 53/100\n",
            "57/57 [==============================] - 0s 3ms/step - loss: 0.0043 - accuracy: 1.0000 - val_loss: 0.7513 - val_accuracy: 0.7968\n",
            "Epoch 54/100\n",
            "57/57 [==============================] - 0s 3ms/step - loss: 0.0041 - accuracy: 1.0000 - val_loss: 0.7479 - val_accuracy: 0.7968\n",
            "Epoch 55/100\n",
            "57/57 [==============================] - 0s 3ms/step - loss: 0.0039 - accuracy: 1.0000 - val_loss: 0.7530 - val_accuracy: 0.7968\n",
            "Epoch 56/100\n",
            "57/57 [==============================] - 0s 3ms/step - loss: 0.0037 - accuracy: 1.0000 - val_loss: 0.7585 - val_accuracy: 0.7968\n",
            "Epoch 57/100\n",
            "57/57 [==============================] - 0s 3ms/step - loss: 0.0036 - accuracy: 1.0000 - val_loss: 0.7629 - val_accuracy: 0.7968\n",
            "Epoch 58/100\n",
            "57/57 [==============================] - 0s 3ms/step - loss: 0.0034 - accuracy: 1.0000 - val_loss: 0.7698 - val_accuracy: 0.7968\n",
            "Epoch 59/100\n",
            "57/57 [==============================] - 0s 3ms/step - loss: 0.0033 - accuracy: 1.0000 - val_loss: 0.7725 - val_accuracy: 0.7968\n",
            "Epoch 60/100\n",
            "57/57 [==============================] - 0s 3ms/step - loss: 0.0031 - accuracy: 1.0000 - val_loss: 0.7758 - val_accuracy: 0.7968\n",
            "Epoch 61/100\n",
            "57/57 [==============================] - 0s 3ms/step - loss: 0.0030 - accuracy: 1.0000 - val_loss: 0.7825 - val_accuracy: 0.7968\n",
            "Epoch 62/100\n",
            "57/57 [==============================] - 0s 3ms/step - loss: 0.0028 - accuracy: 1.0000 - val_loss: 0.7894 - val_accuracy: 0.7968\n",
            "Epoch 63/100\n",
            "57/57 [==============================] - 0s 4ms/step - loss: 0.0027 - accuracy: 1.0000 - val_loss: 0.7954 - val_accuracy: 0.7968\n",
            "Epoch 64/100\n",
            "57/57 [==============================] - 0s 3ms/step - loss: 0.0026 - accuracy: 1.0000 - val_loss: 0.7990 - val_accuracy: 0.7968\n",
            "Epoch 65/100\n",
            "57/57 [==============================] - 0s 3ms/step - loss: 0.0025 - accuracy: 1.0000 - val_loss: 0.8003 - val_accuracy: 0.7968\n",
            "Epoch 66/100\n",
            "57/57 [==============================] - 0s 3ms/step - loss: 0.0024 - accuracy: 1.0000 - val_loss: 0.8086 - val_accuracy: 0.7968\n",
            "Epoch 67/100\n",
            "57/57 [==============================] - 0s 4ms/step - loss: 0.0023 - accuracy: 1.0000 - val_loss: 0.8192 - val_accuracy: 0.7968\n",
            "Epoch 68/100\n",
            "57/57 [==============================] - 0s 3ms/step - loss: 0.0022 - accuracy: 1.0000 - val_loss: 0.8199 - val_accuracy: 0.7968\n",
            "Epoch 69/100\n",
            "57/57 [==============================] - 0s 3ms/step - loss: 0.0021 - accuracy: 1.0000 - val_loss: 0.8236 - val_accuracy: 0.7968\n",
            "Epoch 70/100\n",
            "57/57 [==============================] - 0s 3ms/step - loss: 0.0020 - accuracy: 1.0000 - val_loss: 0.8275 - val_accuracy: 0.7968\n",
            "Epoch 71/100\n",
            "57/57 [==============================] - 0s 3ms/step - loss: 0.0019 - accuracy: 1.0000 - val_loss: 0.8258 - val_accuracy: 0.7968\n",
            "Epoch 72/100\n",
            "57/57 [==============================] - 0s 3ms/step - loss: 0.0019 - accuracy: 1.0000 - val_loss: 0.8397 - val_accuracy: 0.7968\n",
            "Epoch 73/100\n",
            "57/57 [==============================] - 0s 3ms/step - loss: 0.0018 - accuracy: 1.0000 - val_loss: 0.8380 - val_accuracy: 0.7914\n",
            "Epoch 74/100\n",
            "57/57 [==============================] - 0s 4ms/step - loss: 0.0017 - accuracy: 1.0000 - val_loss: 0.8432 - val_accuracy: 0.7914\n",
            "Epoch 75/100\n",
            "57/57 [==============================] - 0s 3ms/step - loss: 0.0016 - accuracy: 1.0000 - val_loss: 0.8473 - val_accuracy: 0.7914\n",
            "Epoch 76/100\n",
            "57/57 [==============================] - 0s 3ms/step - loss: 0.0016 - accuracy: 1.0000 - val_loss: 0.8504 - val_accuracy: 0.7914\n",
            "Epoch 77/100\n",
            "57/57 [==============================] - 0s 3ms/step - loss: 0.0015 - accuracy: 1.0000 - val_loss: 0.8565 - val_accuracy: 0.7914\n",
            "Epoch 78/100\n",
            "57/57 [==============================] - 0s 3ms/step - loss: 0.0015 - accuracy: 1.0000 - val_loss: 0.8584 - val_accuracy: 0.7914\n",
            "Epoch 79/100\n",
            "57/57 [==============================] - 0s 3ms/step - loss: 0.0014 - accuracy: 1.0000 - val_loss: 0.8602 - val_accuracy: 0.7914\n",
            "Epoch 80/100\n",
            "57/57 [==============================] - 0s 3ms/step - loss: 0.0013 - accuracy: 1.0000 - val_loss: 0.8658 - val_accuracy: 0.7914\n",
            "Epoch 81/100\n",
            "57/57 [==============================] - 0s 3ms/step - loss: 0.0013 - accuracy: 1.0000 - val_loss: 0.8755 - val_accuracy: 0.7914\n",
            "Epoch 82/100\n",
            "57/57 [==============================] - 0s 4ms/step - loss: 0.0012 - accuracy: 1.0000 - val_loss: 0.8804 - val_accuracy: 0.7914\n",
            "Epoch 83/100\n",
            "57/57 [==============================] - 0s 3ms/step - loss: 0.0012 - accuracy: 1.0000 - val_loss: 0.8839 - val_accuracy: 0.7914\n",
            "Epoch 84/100\n",
            "57/57 [==============================] - 0s 3ms/step - loss: 0.0012 - accuracy: 1.0000 - val_loss: 0.8880 - val_accuracy: 0.7914\n",
            "Epoch 85/100\n",
            "57/57 [==============================] - 0s 3ms/step - loss: 0.0011 - accuracy: 1.0000 - val_loss: 0.8916 - val_accuracy: 0.7914\n",
            "Epoch 86/100\n",
            "57/57 [==============================] - 0s 3ms/step - loss: 0.0011 - accuracy: 1.0000 - val_loss: 0.8965 - val_accuracy: 0.7914\n",
            "Epoch 87/100\n",
            "57/57 [==============================] - 0s 3ms/step - loss: 0.0010 - accuracy: 1.0000 - val_loss: 0.8924 - val_accuracy: 0.7914\n",
            "Epoch 88/100\n",
            "57/57 [==============================] - 0s 3ms/step - loss: 9.8986e-04 - accuracy: 1.0000 - val_loss: 0.9025 - val_accuracy: 0.7914\n",
            "Epoch 89/100\n",
            "57/57 [==============================] - 0s 3ms/step - loss: 9.5636e-04 - accuracy: 1.0000 - val_loss: 0.9086 - val_accuracy: 0.7914\n",
            "Epoch 90/100\n",
            "57/57 [==============================] - 0s 4ms/step - loss: 9.1842e-04 - accuracy: 1.0000 - val_loss: 0.9097 - val_accuracy: 0.7914\n",
            "Epoch 91/100\n",
            "57/57 [==============================] - 0s 4ms/step - loss: 8.8442e-04 - accuracy: 1.0000 - val_loss: 0.9185 - val_accuracy: 0.7914\n",
            "Epoch 92/100\n",
            "57/57 [==============================] - 0s 3ms/step - loss: 8.5520e-04 - accuracy: 1.0000 - val_loss: 0.9257 - val_accuracy: 0.7914\n",
            "Epoch 93/100\n",
            "57/57 [==============================] - 0s 4ms/step - loss: 8.2435e-04 - accuracy: 1.0000 - val_loss: 0.9252 - val_accuracy: 0.7914\n",
            "Epoch 94/100\n",
            "57/57 [==============================] - 0s 3ms/step - loss: 7.8727e-04 - accuracy: 1.0000 - val_loss: 0.9268 - val_accuracy: 0.7914\n",
            "Epoch 95/100\n",
            "57/57 [==============================] - 0s 3ms/step - loss: 7.6024e-04 - accuracy: 1.0000 - val_loss: 0.9325 - val_accuracy: 0.7914\n",
            "Epoch 96/100\n",
            "57/57 [==============================] - 0s 3ms/step - loss: 7.3316e-04 - accuracy: 1.0000 - val_loss: 0.9348 - val_accuracy: 0.7914\n",
            "Epoch 97/100\n",
            "57/57 [==============================] - 0s 4ms/step - loss: 7.0279e-04 - accuracy: 1.0000 - val_loss: 0.9463 - val_accuracy: 0.7914\n",
            "Epoch 98/100\n",
            "57/57 [==============================] - 0s 3ms/step - loss: 6.8006e-04 - accuracy: 1.0000 - val_loss: 0.9507 - val_accuracy: 0.7914\n",
            "Epoch 99/100\n",
            "57/57 [==============================] - 0s 3ms/step - loss: 6.5599e-04 - accuracy: 1.0000 - val_loss: 0.9500 - val_accuracy: 0.7914\n",
            "Epoch 100/100\n",
            "57/57 [==============================] - 0s 4ms/step - loss: 6.3166e-04 - accuracy: 1.0000 - val_loss: 0.9521 - val_accuracy: 0.7914\n"
          ]
        }
      ]
    },
    {
      "cell_type": "code",
      "source": [
        "loss, accuracy = model.evaluate(X_train, y_train, verbose=False)\n",
        "print(\"Training Accuracy: {:.4f}\".format(accuracy))\n",
        "loss, accuracy = model.evaluate(X_test, y_test, verbose=False)\n",
        "print(\"Testing Accuracy:  {:.4f}\".format(accuracy))\n"
      ],
      "metadata": {
        "_uuid": "e8569a049fd01db63a8e36554a4855be05aa7295",
        "execution": {
          "iopub.status.busy": "2021-10-19T21:26:02.554362Z",
          "iopub.execute_input": "2021-10-19T21:26:02.554919Z",
          "iopub.status.idle": "2021-10-19T21:26:02.598127Z",
          "shell.execute_reply.started": "2021-10-19T21:26:02.554859Z",
          "shell.execute_reply": "2021-10-19T21:26:02.596873Z"
        },
        "trusted": true,
        "id": "ZY8bAiasATqY",
        "colab": {
          "base_uri": "https://localhost:8080/"
        },
        "outputId": "8bc07133-24ee-4809-d775-a655c1c70e3c"
      },
      "execution_count": 42,
      "outputs": [
        {
          "output_type": "stream",
          "name": "stdout",
          "text": [
            "Training Accuracy: 1.0000\n",
            "Testing Accuracy:  0.7914\n"
          ]
        }
      ]
    },
    {
      "cell_type": "code",
      "source": [
        "def plot_history(history):\n",
        "    acc = history.history['acc']\n",
        "    val_acc = history.history['val_acc']\n",
        "    loss = history.history['loss']\n",
        "    val_loss = history.history['val_loss']\n",
        "    x = range(1, len(acc) + 1)\n",
        "\n",
        "    plt.figure(figsize=(12, 5))\n",
        "    plt.subplot(1, 2, 1)\n",
        "    plt.plot(x, acc, 'b', label='Training acc')\n",
        "    plt.plot(x, val_acc, 'r', label='Validation acc')\n",
        "    plt.title('Training and validation accuracy')\n",
        "    plt.legend()\n",
        "    plt.subplot(1, 2, 2)\n",
        "    plt.plot(x, loss, 'b', label='Training loss')\n",
        "    plt.plot(x, val_loss, 'r', label='Validation loss')\n",
        "    plt.title('Training and validation loss')\n",
        "    plt.legend()"
      ],
      "metadata": {
        "_uuid": "a4a3fc45fe1b3dc344ff30dd5c1982d9734bfe4e",
        "execution": {
          "iopub.status.busy": "2021-10-19T21:26:02.599256Z",
          "iopub.execute_input": "2021-10-19T21:26:02.599778Z",
          "iopub.status.idle": "2021-10-19T21:26:02.607890Z",
          "shell.execute_reply.started": "2021-10-19T21:26:02.599721Z",
          "shell.execute_reply": "2021-10-19T21:26:02.606811Z"
        },
        "trusted": true,
        "id": "OVSewTRAATqZ"
      },
      "execution_count": 43,
      "outputs": []
    },
    {
      "cell_type": "code",
      "source": [
        "pip install plot_keras_history"
      ],
      "metadata": {
        "colab": {
          "base_uri": "https://localhost:8080/"
        },
        "id": "-7AhXeIrM0PE",
        "outputId": "468d6b9c-d4e4-4285-ed59-6af69fac6211"
      },
      "execution_count": 54,
      "outputs": [
        {
          "output_type": "stream",
          "name": "stdout",
          "text": [
            "Collecting plot_keras_history\n",
            "  Downloading plot_keras_history-1.1.30.tar.gz (8.6 kB)\n",
            "Requirement already satisfied: matplotlib in /usr/local/lib/python3.7/dist-packages (from plot_keras_history) (3.2.2)\n",
            "Requirement already satisfied: pandas in /usr/local/lib/python3.7/dist-packages (from plot_keras_history) (1.3.5)\n",
            "Requirement already satisfied: scipy in /usr/local/lib/python3.7/dist-packages (from plot_keras_history) (1.4.1)\n",
            "Collecting sanitize_ml_labels>=1.0.28\n",
            "  Downloading sanitize_ml_labels-1.0.29.tar.gz (7.4 kB)\n",
            "Collecting compress_json\n",
            "  Downloading compress_json-1.0.4.tar.gz (4.7 kB)\n",
            "Requirement already satisfied: pyparsing!=2.0.4,!=2.1.2,!=2.1.6,>=2.0.1 in /usr/local/lib/python3.7/dist-packages (from matplotlib->plot_keras_history) (3.0.7)\n",
            "Requirement already satisfied: cycler>=0.10 in /usr/local/lib/python3.7/dist-packages (from matplotlib->plot_keras_history) (0.11.0)\n",
            "Requirement already satisfied: numpy>=1.11 in /usr/local/lib/python3.7/dist-packages (from matplotlib->plot_keras_history) (1.21.5)\n",
            "Requirement already satisfied: kiwisolver>=1.0.1 in /usr/local/lib/python3.7/dist-packages (from matplotlib->plot_keras_history) (1.3.2)\n",
            "Requirement already satisfied: python-dateutil>=2.1 in /usr/local/lib/python3.7/dist-packages (from matplotlib->plot_keras_history) (2.8.2)\n",
            "Requirement already satisfied: six>=1.5 in /usr/local/lib/python3.7/dist-packages (from python-dateutil>=2.1->matplotlib->plot_keras_history) (1.15.0)\n",
            "Requirement already satisfied: pytz>=2017.3 in /usr/local/lib/python3.7/dist-packages (from pandas->plot_keras_history) (2018.9)\n",
            "Building wheels for collected packages: plot-keras-history, sanitize-ml-labels, compress-json\n",
            "  Building wheel for plot-keras-history (setup.py) ... \u001b[?25l\u001b[?25hdone\n",
            "  Created wheel for plot-keras-history: filename=plot_keras_history-1.1.30-py3-none-any.whl size=8794 sha256=ab5dd38c6694556309c05e51368ed16f38956a0683971b25cf5192a400920178\n",
            "  Stored in directory: /root/.cache/pip/wheels/b0/60/47/8c5aa37c06be5e97879ec467bc2e6a30b315d95f662c63a503\n",
            "  Building wheel for sanitize-ml-labels (setup.py) ... \u001b[?25l\u001b[?25hdone\n",
            "  Created wheel for sanitize-ml-labels: filename=sanitize_ml_labels-1.0.29-py3-none-any.whl size=7878 sha256=fac0d6718f11f0cc458c14982a8ebfd130aea6c29ccd7e6b2caa212b201d4823\n",
            "  Stored in directory: /root/.cache/pip/wheels/c2/f5/71/d1c459da10abec864a1979b449edbf37d4a82ab3e38a3625a8\n",
            "  Building wheel for compress-json (setup.py) ... \u001b[?25l\u001b[?25hdone\n",
            "  Created wheel for compress-json: filename=compress_json-1.0.4-py3-none-any.whl size=4588 sha256=96363aa34bbda05c43c5909460aef2dca35e2080fccfff82626f436883b822ab\n",
            "  Stored in directory: /root/.cache/pip/wheels/1e/ef/1e/5d403c5632b0462471a8d26049d0c138134d0255ec60ce4c14\n",
            "Successfully built plot-keras-history sanitize-ml-labels compress-json\n",
            "Installing collected packages: compress-json, sanitize-ml-labels, plot-keras-history\n",
            "Successfully installed compress-json-1.0.4 plot-keras-history-1.1.30 sanitize-ml-labels-1.0.29\n"
          ]
        }
      ]
    },
    {
      "cell_type": "code",
      "source": [
        "plot_history(history)"
      ],
      "metadata": {
        "colab": {
          "base_uri": "https://localhost:8080/",
          "height": 299
        },
        "id": "J_LrLj9ZM7vJ",
        "outputId": "38246c4c-9377-4ab9-c917-8071ba4951fb"
      },
      "execution_count": 57,
      "outputs": [
        {
          "output_type": "error",
          "ename": "KeyError",
          "evalue": "ignored",
          "traceback": [
            "\u001b[0;31m---------------------------------------------------------------------------\u001b[0m",
            "\u001b[0;31mKeyError\u001b[0m                                  Traceback (most recent call last)",
            "\u001b[0;32m<ipython-input-57-a8489d1127d4>\u001b[0m in \u001b[0;36m<module>\u001b[0;34m()\u001b[0m\n\u001b[0;32m----> 1\u001b[0;31m \u001b[0mplot_history\u001b[0m\u001b[0;34m(\u001b[0m\u001b[0mhistory\u001b[0m\u001b[0;34m)\u001b[0m\u001b[0;34m\u001b[0m\u001b[0;34m\u001b[0m\u001b[0m\n\u001b[0m",
            "\u001b[0;32m<ipython-input-43-b8f9387078b8>\u001b[0m in \u001b[0;36mplot_history\u001b[0;34m(history)\u001b[0m\n\u001b[1;32m      1\u001b[0m \u001b[0;32mdef\u001b[0m \u001b[0mplot_history\u001b[0m\u001b[0;34m(\u001b[0m\u001b[0mhistory\u001b[0m\u001b[0;34m)\u001b[0m\u001b[0;34m:\u001b[0m\u001b[0;34m\u001b[0m\u001b[0;34m\u001b[0m\u001b[0m\n\u001b[0;32m----> 2\u001b[0;31m     \u001b[0macc\u001b[0m \u001b[0;34m=\u001b[0m \u001b[0mhistory\u001b[0m\u001b[0;34m.\u001b[0m\u001b[0mhistory\u001b[0m\u001b[0;34m[\u001b[0m\u001b[0;34m'acc'\u001b[0m\u001b[0;34m]\u001b[0m\u001b[0;34m\u001b[0m\u001b[0;34m\u001b[0m\u001b[0m\n\u001b[0m\u001b[1;32m      3\u001b[0m     \u001b[0mval_acc\u001b[0m \u001b[0;34m=\u001b[0m \u001b[0mhistory\u001b[0m\u001b[0;34m.\u001b[0m\u001b[0mhistory\u001b[0m\u001b[0;34m[\u001b[0m\u001b[0;34m'val_acc'\u001b[0m\u001b[0;34m]\u001b[0m\u001b[0;34m\u001b[0m\u001b[0;34m\u001b[0m\u001b[0m\n\u001b[1;32m      4\u001b[0m     \u001b[0mloss\u001b[0m \u001b[0;34m=\u001b[0m \u001b[0mhistory\u001b[0m\u001b[0;34m.\u001b[0m\u001b[0mhistory\u001b[0m\u001b[0;34m[\u001b[0m\u001b[0;34m'loss'\u001b[0m\u001b[0;34m]\u001b[0m\u001b[0;34m\u001b[0m\u001b[0;34m\u001b[0m\u001b[0m\n\u001b[1;32m      5\u001b[0m     \u001b[0mval_loss\u001b[0m \u001b[0;34m=\u001b[0m \u001b[0mhistory\u001b[0m\u001b[0;34m.\u001b[0m\u001b[0mhistory\u001b[0m\u001b[0;34m[\u001b[0m\u001b[0;34m'val_loss'\u001b[0m\u001b[0;34m]\u001b[0m\u001b[0;34m\u001b[0m\u001b[0;34m\u001b[0m\u001b[0m\n",
            "\u001b[0;31mKeyError\u001b[0m: 'acc'"
          ]
        }
      ]
    },
    {
      "cell_type": "markdown",
      "source": [
        "## What Is a Word Embedding?\n",
        "\n",
        "Text is considered a form of sequence data similar to time series data that you would have in weather data or financial data. Now you will see how to represent each word as vectors. There are various ways to vectorize text, such as:\n",
        "\n",
        "* Words represented by each word as a vector\n",
        "* Characters represented by each character as a vector\n",
        "* N-grams of words/characters represented as a vector (N-grams are overlapping groups of multiple succeeding words/characters in the text)\n",
        "\n",
        "Here, you’ll see how to deal with representing words as vectors which is the common way to use text in neural networks. Two possible ways to represent a word as a vector are one-hot encoding and word embeddings.\n",
        "\n",
        "**One-Hot Encoding**\n",
        "\n",
        "The first way to represent a word as a vector is by creating a so-called one-hot encoding, which is simply done by taking a vector of the length of the vocabulary with an entry for each word in the corpus.\n",
        "\n",
        "In this way, you have for each word, given it has a spot in the vocabulary, a vector with zeros everywhere except for the corresponding spot for the word which is set to one."
      ],
      "metadata": {
        "_uuid": "ea9e401688489ddccdd8b028bc962101d1f50d0c",
        "trusted": true,
        "id": "Cz3XT173ATqb"
      }
    },
    {
      "cell_type": "code",
      "source": [
        "cities = ['London', 'Berlin', 'Berlin', 'New York', 'London']"
      ],
      "metadata": {
        "_uuid": "e70cf30124b97e5354817229035e448717599353",
        "execution": {
          "iopub.status.busy": "2021-10-19T21:26:03.193472Z",
          "iopub.execute_input": "2021-10-19T21:26:03.194049Z",
          "iopub.status.idle": "2021-10-19T21:26:03.201184Z",
          "shell.execute_reply.started": "2021-10-19T21:26:03.193981Z",
          "shell.execute_reply": "2021-10-19T21:26:03.200153Z"
        },
        "trusted": true,
        "id": "1BVFBgtoATqc"
      },
      "execution_count": 44,
      "outputs": []
    },
    {
      "cell_type": "markdown",
      "source": [
        "\n",
        "`LabelEncoder` to encode the list of cities into categorical integer values"
      ],
      "metadata": {
        "_uuid": "fa32a60f2a6f313ea8bc440942f2d489998b6a0c",
        "id": "yK8BqkG5ATqd"
      }
    },
    {
      "cell_type": "code",
      "source": [
        "encoder = LabelEncoder()\n",
        "city_labels = encoder.fit_transform(cities)"
      ],
      "metadata": {
        "_uuid": "3d4ecdc38e764ecfeb1f0d78a16ecf423983cdb9",
        "execution": {
          "iopub.status.busy": "2021-10-19T21:26:03.202525Z",
          "iopub.execute_input": "2021-10-19T21:26:03.202825Z",
          "iopub.status.idle": "2021-10-19T21:26:03.213798Z",
          "shell.execute_reply.started": "2021-10-19T21:26:03.202764Z",
          "shell.execute_reply": "2021-10-19T21:26:03.212614Z"
        },
        "trusted": true,
        "id": "F9XmNNYfATqe"
      },
      "execution_count": 45,
      "outputs": []
    },
    {
      "cell_type": "markdown",
      "source": [
        "OneHotEncoder expects each categorical value to be in a separate row, so you’ll need to reshape the array, then you can apply the encoder:"
      ],
      "metadata": {
        "_uuid": "da045f493813e22a4bf274d8e68a7adbcaa39cf8",
        "id": "tqa1Mv1HATqe"
      }
    },
    {
      "cell_type": "code",
      "source": [
        "encoder = OneHotEncoder(sparse=False)\n",
        "city_labels = city_labels.reshape((5, 1))\n",
        "encoder.fit_transform(city_labels)"
      ],
      "metadata": {
        "_uuid": "a811470d725cfc3edacc04cfb8ff40050408b93c",
        "execution": {
          "iopub.status.busy": "2021-10-19T21:26:03.215499Z",
          "iopub.execute_input": "2021-10-19T21:26:03.215849Z",
          "iopub.status.idle": "2021-10-19T21:26:03.232259Z",
          "shell.execute_reply.started": "2021-10-19T21:26:03.215789Z",
          "shell.execute_reply": "2021-10-19T21:26:03.231089Z"
        },
        "trusted": true,
        "id": "S1IdMqc2ATqf",
        "colab": {
          "base_uri": "https://localhost:8080/"
        },
        "outputId": "288d28e0-6bab-40fa-dd4e-d65cd64e0a37"
      },
      "execution_count": 46,
      "outputs": [
        {
          "output_type": "execute_result",
          "data": {
            "text/plain": [
              "array([[0., 1., 0.],\n",
              "       [1., 0., 0.],\n",
              "       [1., 0., 0.],\n",
              "       [0., 0., 1.],\n",
              "       [0., 1., 0.]])"
            ]
          },
          "metadata": {},
          "execution_count": 46
        }
      ]
    },
    {
      "cell_type": "markdown",
      "source": [
        "**Word Embeddings**\n",
        "\n",
        "This method represents words as dense word vectors (also called word embeddings) which are trained unlike the one-hot encoding which are hardcoded. This means that the word embeddings collect more information into fewer dimensions.\n",
        "\n",
        "Note that the word embeddings do not understand the text as a human would, but they rather map the statistical structure of the language used in the corpus. Their aim is to map semantic meaning into a geometric space. This geometric space is then called the embedding space.\n",
        "\n",
        "Now you need to tokenize the data into a format that can be used by the word embeddings. Keras offers a couple of convenience methods for text preprocessing and sequence preprocessing which you can employ to prepare your text.\n",
        "\n",
        "You can start by using the Tokenizer utility class which can vectorize a text corpus into a list of integers. Each integer maps to a value in a dictionary that encodes the entire corpus, with the keys in the dictionary being the vocabulary terms themselves. You can add the parameter num_words, which is responsible for setting the size of the vocabulary. The most common num_words words will be then kept."
      ],
      "metadata": {
        "_uuid": "9005576faab272d4533590b721b525e726b9b4a4",
        "id": "3hqH5pEfATqg"
      }
    },
    {
      "cell_type": "code",
      "source": [
        "tokenizer = Tokenizer(num_words=5000)\n",
        "tokenizer.fit_on_texts(sentences_train)\n",
        "\n",
        "X_train = tokenizer.texts_to_sequences(sentences_train)\n",
        "X_test = tokenizer.texts_to_sequences(sentences_test)\n",
        "\n",
        "vocab_size = len(tokenizer.word_index) + 1  # Adding 1 because of reserved 0 index\n",
        "\n",
        "print(sentences_train[2])\n",
        "print(X_train[2])"
      ],
      "metadata": {
        "_uuid": "19df1b964d253c06f51e5392b2385bb97e70ed88",
        "execution": {
          "iopub.status.busy": "2021-10-19T21:26:03.234430Z",
          "iopub.execute_input": "2021-10-19T21:26:03.234767Z",
          "iopub.status.idle": "2021-10-19T21:26:03.290194Z",
          "shell.execute_reply.started": "2021-10-19T21:26:03.234713Z",
          "shell.execute_reply": "2021-10-19T21:26:03.288808Z"
        },
        "trusted": true,
        "id": "8H4ZrbH2ATqg",
        "colab": {
          "base_uri": "https://localhost:8080/"
        },
        "outputId": "d58b0817-eaa7-43f8-9737-eac9a5d413c6"
      },
      "execution_count": 47,
      "outputs": [
        {
          "output_type": "stream",
          "name": "stdout",
          "text": [
            "I am a fan of his ... This movie sucked really bad.  \n",
            "[7, 150, 2, 934, 4, 49, 6, 11, 564, 45, 30]\n"
          ]
        }
      ]
    },
    {
      "cell_type": "code",
      "source": [
        "for word in ['the', 'all','fan']:\n",
        "    print('{}: {}'.format(word, tokenizer.word_index[word]))"
      ],
      "metadata": {
        "_uuid": "a7f9e7a00eb777752eb95bfac883bd9e2eee74ca",
        "execution": {
          "iopub.status.busy": "2021-10-19T21:26:03.294092Z",
          "iopub.execute_input": "2021-10-19T21:26:03.294426Z",
          "iopub.status.idle": "2021-10-19T21:26:03.300140Z",
          "shell.execute_reply.started": "2021-10-19T21:26:03.294330Z",
          "shell.execute_reply": "2021-10-19T21:26:03.299445Z"
        },
        "trusted": true,
        "id": "qOBicpivATqh",
        "colab": {
          "base_uri": "https://localhost:8080/"
        },
        "outputId": "eab90fc1-0c9a-438b-c727-e22e4553883b"
      },
      "execution_count": 48,
      "outputs": [
        {
          "output_type": "stream",
          "name": "stdout",
          "text": [
            "the: 1\n",
            "all: 27\n",
            "fan: 934\n"
          ]
        }
      ]
    },
    {
      "cell_type": "markdown",
      "source": [
        "** pad sequences with Keras**"
      ],
      "metadata": {
        "_uuid": "e5f5896fe077325548dd5f6a59f6e806c0d5da23",
        "id": "34c71TpyATqi"
      }
    },
    {
      "cell_type": "code",
      "source": [
        "maxlen = 100\n",
        "\n",
        "X_train = pad_sequences(X_train, padding='post', maxlen=maxlen)\n",
        "X_test = pad_sequences(X_test, padding='post', maxlen=maxlen)\n",
        "\n",
        "print(X_train[0, :])"
      ],
      "metadata": {
        "_uuid": "f76a6270c28c045567f1db6525034c72669dcc06",
        "execution": {
          "iopub.status.busy": "2021-10-19T21:26:03.301182Z",
          "iopub.execute_input": "2021-10-19T21:26:03.301527Z",
          "iopub.status.idle": "2021-10-19T21:26:03.327083Z",
          "shell.execute_reply.started": "2021-10-19T21:26:03.301475Z",
          "shell.execute_reply": "2021-10-19T21:26:03.325996Z"
        },
        "trusted": true,
        "id": "frkQbr3jATqi",
        "colab": {
          "base_uri": "https://localhost:8080/"
        },
        "outputId": "3ed866fb-1c38-4662-8952-4f5912186549"
      },
      "execution_count": 49,
      "outputs": [
        {
          "output_type": "stream",
          "name": "stdout",
          "text": [
            "[170 116 391  35   0   0   0   0   0   0   0   0   0   0   0   0   0   0\n",
            "   0   0   0   0   0   0   0   0   0   0   0   0   0   0   0   0   0   0\n",
            "   0   0   0   0   0   0   0   0   0   0   0   0   0   0   0   0   0   0\n",
            "   0   0   0   0   0   0   0   0   0   0   0   0   0   0   0   0   0   0\n",
            "   0   0   0   0   0   0   0   0   0   0   0   0   0   0   0   0   0   0\n",
            "   0   0   0   0   0   0   0   0   0   0]\n"
          ]
        }
      ]
    },
    {
      "cell_type": "markdown",
      "source": [
        "### Keras Embedding Layer\n",
        "\n",
        "Now you can use the Embedding Layer of Keras which takes the previously calculated integers and maps them to a dense vector of the embedding. You will need the following parameters:\n",
        "* **input_dim**: the size of the vocabulary\n",
        "* **output_dim**: the size of the dense vector\n",
        "* **input_length**: the length of the sequence\n",
        "\n",
        "With the Embedding layer we have now a couple of options. One way would be to take the output of the embedding layer and plug it into a Dense layer. In order to do this you have to add a Flatten layer in between that prepares the sequential input for the Dense layer:"
      ],
      "metadata": {
        "_uuid": "73f8ef7851a32479c2d932d33c4c609e21f7cd33",
        "id": "AigW0B4oATqj"
      }
    },
    {
      "cell_type": "code",
      "source": [
        "embedding_dim = 50\n",
        "\n",
        "model = Sequential()\n",
        "model.add(layers.Embedding(input_dim=vocab_size, \n",
        "                           output_dim=embedding_dim, \n",
        "                           input_length=maxlen))\n",
        "model.add(layers.Flatten())\n",
        "model.add(layers.Dense(10, activation='relu'))\n",
        "model.add(layers.Dense(1, activation='sigmoid'))\n",
        "model.compile(optimizer='adam',\n",
        "              loss='binary_crossentropy',\n",
        "              metrics=['accuracy'])\n",
        "model.summary()"
      ],
      "metadata": {
        "_uuid": "0294cc68d4f93cd6bd3cf0080309cc7047f4daec",
        "execution": {
          "iopub.status.busy": "2021-10-19T21:26:03.328580Z",
          "iopub.execute_input": "2021-10-19T21:26:03.329154Z",
          "iopub.status.idle": "2021-10-19T21:26:03.499841Z",
          "shell.execute_reply.started": "2021-10-19T21:26:03.329086Z",
          "shell.execute_reply": "2021-10-19T21:26:03.498837Z"
        },
        "trusted": true,
        "id": "A7rCas2LATqk",
        "colab": {
          "base_uri": "https://localhost:8080/"
        },
        "outputId": "7843eb06-5fa0-4906-a30f-663b684c9c26"
      },
      "execution_count": 50,
      "outputs": [
        {
          "output_type": "stream",
          "name": "stdout",
          "text": [
            "Model: \"sequential_2\"\n",
            "_________________________________________________________________\n",
            " Layer (type)                Output Shape              Param #   \n",
            "=================================================================\n",
            " embedding (Embedding)       (None, 100, 50)           128850    \n",
            "                                                                 \n",
            " flatten (Flatten)           (None, 5000)              0         \n",
            "                                                                 \n",
            " dense_4 (Dense)             (None, 10)                50010     \n",
            "                                                                 \n",
            " dense_5 (Dense)             (None, 1)                 11        \n",
            "                                                                 \n",
            "=================================================================\n",
            "Total params: 178,871\n",
            "Trainable params: 178,871\n",
            "Non-trainable params: 0\n",
            "_________________________________________________________________\n"
          ]
        }
      ]
    },
    {
      "cell_type": "code",
      "source": [
        "history = model.fit(X_train, y_train,\n",
        "                    epochs=20,\n",
        "                    verbose=True,\n",
        "                    validation_data=(X_test, y_test),\n",
        "                    batch_size=10)\n",
        "loss, accuracy = model.evaluate(X_train, y_train, verbose=False)\n",
        "print(\"Training Accuracy: {:.4f}\".format(accuracy))\n",
        "loss, accuracy = model.evaluate(X_test, y_test, verbose=False)\n",
        "print(\"Testing Accuracy:  {:.4f}\".format(accuracy))"
      ],
      "metadata": {
        "_uuid": "046c27a78bb27f05cd3f731ae9fb6fbfabf471bc",
        "execution": {
          "iopub.status.busy": "2021-10-19T21:26:03.501370Z",
          "iopub.execute_input": "2021-10-19T21:26:03.501620Z",
          "iopub.status.idle": "2021-10-19T21:26:09.508466Z",
          "shell.execute_reply.started": "2021-10-19T21:26:03.501579Z",
          "shell.execute_reply": "2021-10-19T21:26:09.507816Z"
        },
        "trusted": true,
        "id": "-_UH9I7XATql",
        "colab": {
          "base_uri": "https://localhost:8080/"
        },
        "outputId": "a2c400e4-4802-41a0-b398-02dedc8e9671"
      },
      "execution_count": 58,
      "outputs": [
        {
          "output_type": "stream",
          "name": "stdout",
          "text": [
            "Epoch 1/20\n",
            "57/57 [==============================] - 0s 6ms/step - loss: 4.4369e-05 - accuracy: 1.0000 - val_loss: 1.1163 - val_accuracy: 0.6471\n",
            "Epoch 2/20\n",
            "57/57 [==============================] - 0s 5ms/step - loss: 4.2068e-05 - accuracy: 1.0000 - val_loss: 1.1198 - val_accuracy: 0.6471\n",
            "Epoch 3/20\n",
            "57/57 [==============================] - 0s 5ms/step - loss: 4.0050e-05 - accuracy: 1.0000 - val_loss: 1.1237 - val_accuracy: 0.6471\n",
            "Epoch 4/20\n",
            "57/57 [==============================] - 0s 5ms/step - loss: 3.8201e-05 - accuracy: 1.0000 - val_loss: 1.1279 - val_accuracy: 0.6417\n",
            "Epoch 5/20\n",
            "57/57 [==============================] - 0s 4ms/step - loss: 3.6499e-05 - accuracy: 1.0000 - val_loss: 1.1324 - val_accuracy: 0.6471\n",
            "Epoch 6/20\n",
            "57/57 [==============================] - 0s 5ms/step - loss: 3.4654e-05 - accuracy: 1.0000 - val_loss: 1.1360 - val_accuracy: 0.6471\n",
            "Epoch 7/20\n",
            "57/57 [==============================] - 0s 5ms/step - loss: 3.3124e-05 - accuracy: 1.0000 - val_loss: 1.1399 - val_accuracy: 0.6471\n",
            "Epoch 8/20\n",
            "57/57 [==============================] - 0s 5ms/step - loss: 3.1593e-05 - accuracy: 1.0000 - val_loss: 1.1442 - val_accuracy: 0.6471\n",
            "Epoch 9/20\n",
            "57/57 [==============================] - 0s 5ms/step - loss: 3.0318e-05 - accuracy: 1.0000 - val_loss: 1.1473 - val_accuracy: 0.6417\n",
            "Epoch 10/20\n",
            "57/57 [==============================] - 0s 5ms/step - loss: 2.9378e-05 - accuracy: 1.0000 - val_loss: 1.1514 - val_accuracy: 0.6417\n",
            "Epoch 11/20\n",
            "57/57 [==============================] - 0s 5ms/step - loss: 2.7672e-05 - accuracy: 1.0000 - val_loss: 1.1552 - val_accuracy: 0.6417\n",
            "Epoch 12/20\n",
            "57/57 [==============================] - 0s 5ms/step - loss: 2.6283e-05 - accuracy: 1.0000 - val_loss: 1.1587 - val_accuracy: 0.6417\n",
            "Epoch 13/20\n",
            "57/57 [==============================] - 0s 4ms/step - loss: 2.5356e-05 - accuracy: 1.0000 - val_loss: 1.1622 - val_accuracy: 0.6417\n",
            "Epoch 14/20\n",
            "57/57 [==============================] - 0s 5ms/step - loss: 2.4242e-05 - accuracy: 1.0000 - val_loss: 1.1664 - val_accuracy: 0.6417\n",
            "Epoch 15/20\n",
            "57/57 [==============================] - 0s 6ms/step - loss: 2.3048e-05 - accuracy: 1.0000 - val_loss: 1.1695 - val_accuracy: 0.6417\n",
            "Epoch 16/20\n",
            "57/57 [==============================] - 0s 5ms/step - loss: 2.2072e-05 - accuracy: 1.0000 - val_loss: 1.1736 - val_accuracy: 0.6417\n",
            "Epoch 17/20\n",
            "57/57 [==============================] - 0s 5ms/step - loss: 2.1173e-05 - accuracy: 1.0000 - val_loss: 1.1773 - val_accuracy: 0.6417\n",
            "Epoch 18/20\n",
            "57/57 [==============================] - 0s 5ms/step - loss: 2.0260e-05 - accuracy: 1.0000 - val_loss: 1.1812 - val_accuracy: 0.6417\n",
            "Epoch 19/20\n",
            "57/57 [==============================] - 0s 5ms/step - loss: 1.9356e-05 - accuracy: 1.0000 - val_loss: 1.1846 - val_accuracy: 0.6417\n",
            "Epoch 20/20\n",
            "57/57 [==============================] - 0s 5ms/step - loss: 1.8596e-05 - accuracy: 1.0000 - val_loss: 1.1883 - val_accuracy: 0.6417\n",
            "Training Accuracy: 1.0000\n",
            "Testing Accuracy:  0.6417\n"
          ]
        }
      ]
    },
    {
      "cell_type": "markdown",
      "source": [
        "Global max/average pooling takes the maximum/average of all features whereas in the other case you have to define the pool size. Keras has again its own layer that you can add in the sequential model:"
      ],
      "metadata": {
        "_uuid": "80959ffdd0007815cf8029424a3ac9a99b6ea0f3",
        "id": "kN6jHiaFATqm"
      }
    },
    {
      "cell_type": "code",
      "source": [
        "embedding_dim = 50\n",
        "\n",
        "model = Sequential()\n",
        "model.add(layers.Embedding(input_dim=vocab_size, \n",
        "                           output_dim=embedding_dim, \n",
        "                           input_length=maxlen))\n",
        "model.add(layers.GlobalMaxPool1D())\n",
        "model.add(layers.Dense(10, activation='relu'))\n",
        "model.add(layers.Dense(1, activation='sigmoid'))\n",
        "model.compile(optimizer='adam',\n",
        "              loss='binary_crossentropy',\n",
        "              metrics=['accuracy'])\n",
        "model.summary()"
      ],
      "metadata": {
        "_uuid": "4e6fe427c11f4ef8b93b00a4ddd0543f955437a3",
        "execution": {
          "iopub.status.busy": "2021-10-19T21:26:09.509414Z",
          "iopub.execute_input": "2021-10-19T21:26:09.509770Z",
          "iopub.status.idle": "2021-10-19T21:26:09.670077Z",
          "shell.execute_reply.started": "2021-10-19T21:26:09.509736Z",
          "shell.execute_reply": "2021-10-19T21:26:09.669319Z"
        },
        "trusted": true,
        "id": "4P6zM8XZATqm",
        "colab": {
          "base_uri": "https://localhost:8080/"
        },
        "outputId": "ad1c5ccf-5145-4d05-e619-d7994094d4a0"
      },
      "execution_count": 59,
      "outputs": [
        {
          "output_type": "stream",
          "name": "stdout",
          "text": [
            "Model: \"sequential_3\"\n",
            "_________________________________________________________________\n",
            " Layer (type)                Output Shape              Param #   \n",
            "=================================================================\n",
            " embedding_1 (Embedding)     (None, 100, 50)           128850    \n",
            "                                                                 \n",
            " global_max_pooling1d (Globa  (None, 50)               0         \n",
            " lMaxPooling1D)                                                  \n",
            "                                                                 \n",
            " dense_6 (Dense)             (None, 10)                510       \n",
            "                                                                 \n",
            " dense_7 (Dense)             (None, 1)                 11        \n",
            "                                                                 \n",
            "=================================================================\n",
            "Total params: 129,371\n",
            "Trainable params: 129,371\n",
            "Non-trainable params: 0\n",
            "_________________________________________________________________\n"
          ]
        }
      ]
    },
    {
      "cell_type": "code",
      "source": [
        "history = model.fit(X_train, y_train,\n",
        "                    epochs=50,\n",
        "                    verbose=False,\n",
        "                    validation_data=(X_test, y_test),\n",
        "                    batch_size=10)\n",
        "loss, accuracy = model.evaluate(X_train, y_train, verbose=False)\n",
        "print(\"Training Accuracy: {:.4f}\".format(accuracy))\n",
        "loss, accuracy = model.evaluate(X_test, y_test, verbose=False)\n",
        "print(\"Testing Accuracy:  {:.4f}\".format(accuracy))"
      ],
      "metadata": {
        "_uuid": "f006794931241f2e77093d719252ee1dfc94828b",
        "execution": {
          "iopub.status.busy": "2021-10-19T21:26:09.671266Z",
          "iopub.execute_input": "2021-10-19T21:26:09.671557Z",
          "iopub.status.idle": "2021-10-19T21:26:25.036711Z",
          "shell.execute_reply.started": "2021-10-19T21:26:09.671500Z",
          "shell.execute_reply": "2021-10-19T21:26:25.035819Z"
        },
        "trusted": true,
        "id": "iT2Sho8XATqo",
        "colab": {
          "base_uri": "https://localhost:8080/"
        },
        "outputId": "0e9388a2-4cdc-4f35-ed85-752bbd03903e"
      },
      "execution_count": 62,
      "outputs": [
        {
          "output_type": "stream",
          "name": "stdout",
          "text": [
            "Training Accuracy: 1.0000\n",
            "Testing Accuracy:  0.7701\n"
          ]
        }
      ]
    },
    {
      "cell_type": "markdown",
      "source": [
        "## Convolutional Neural Networks (CNN)\n",
        "\n",
        "Convolutional neural networks or also called **convnets** are one of the most exciting developments in machine learning in recent years.\n",
        "\n",
        "They have revolutionized image classification and computer vision by being able to extract features from images and using them in neural networks. The properties that made them useful in image processing makes them also handy for sequence processing. You can imagine a CNN as a specialized neural network that is able to detect specific patterns.\n",
        "\n",
        "A CNN has hidden layers which are called convolutional layers. When you think of images, a computer has to deal with a two dimensional matrix of numbers and therefore you need some way to detect features in this matrix. These convolutional layers are able to detect edges, corners and other kinds of textures which makes them such a special tool. The convolutional layer consists of multiple filters which are slid across the image and are able to detect specific features."
      ],
      "metadata": {
        "_uuid": "53b4098556381b3b10f16043673e27823ab64153",
        "id": "FMo3Q8XPATqp"
      }
    },
    {
      "cell_type": "code",
      "source": [
        "embedding_dim = 100\n",
        "\n",
        "model = Sequential()\n",
        "model.add(layers.Embedding(vocab_size, embedding_dim, input_length=maxlen))\n",
        "model.add(layers.Conv1D(128, 5, activation='relu'))\n",
        "model.add(layers.GlobalMaxPooling1D())\n",
        "model.add(layers.Dense(10, activation='relu'))\n",
        "model.add(layers.Dense(1, activation='sigmoid'))\n",
        "model.compile(optimizer='adam',\n",
        "              loss='binary_crossentropy',\n",
        "              metrics=['accuracy'])\n",
        "model.summary()"
      ],
      "metadata": {
        "_uuid": "2f8b18e5bee409b3da521379c3bb6c6c8a53c075",
        "execution": {
          "iopub.status.busy": "2021-10-19T21:26:25.038139Z",
          "iopub.execute_input": "2021-10-19T21:26:25.038687Z",
          "iopub.status.idle": "2021-10-19T21:26:25.222539Z",
          "shell.execute_reply.started": "2021-10-19T21:26:25.038354Z",
          "shell.execute_reply": "2021-10-19T21:26:25.221585Z"
        },
        "trusted": true,
        "id": "aQmlB9OMATqq",
        "colab": {
          "base_uri": "https://localhost:8080/"
        },
        "outputId": "aa69cb35-34ff-42e8-8fcb-af4d1651ba5b"
      },
      "execution_count": 63,
      "outputs": [
        {
          "output_type": "stream",
          "name": "stdout",
          "text": [
            "Model: \"sequential_4\"\n",
            "_________________________________________________________________\n",
            " Layer (type)                Output Shape              Param #   \n",
            "=================================================================\n",
            " embedding_2 (Embedding)     (None, 100, 100)          257700    \n",
            "                                                                 \n",
            " conv1d (Conv1D)             (None, 96, 128)           64128     \n",
            "                                                                 \n",
            " global_max_pooling1d_1 (Glo  (None, 128)              0         \n",
            " balMaxPooling1D)                                                \n",
            "                                                                 \n",
            " dense_8 (Dense)             (None, 10)                1290      \n",
            "                                                                 \n",
            " dense_9 (Dense)             (None, 1)                 11        \n",
            "                                                                 \n",
            "=================================================================\n",
            "Total params: 323,129\n",
            "Trainable params: 323,129\n",
            "Non-trainable params: 0\n",
            "_________________________________________________________________\n"
          ]
        }
      ]
    },
    {
      "cell_type": "code",
      "source": [
        "history = model.fit(X_train, y_train,\n",
        "                    epochs=10,\n",
        "                    verbose=False,\n",
        "                    validation_data=(X_test, y_test),\n",
        "                    batch_size=10)\n",
        "loss, accuracy = model.evaluate(X_train, y_train, verbose=False)\n",
        "print(\"Training Accuracy: {:.4f}\".format(accuracy))\n",
        "loss, accuracy = model.evaluate(X_test, y_test, verbose=False)\n",
        "print(\"Testing Accuracy:  {:.4f}\".format(accuracy))"
      ],
      "metadata": {
        "_uuid": "8298fb93c84b464ff93e1a0a54a085faacec5ebf",
        "execution": {
          "iopub.status.busy": "2021-10-19T21:26:25.223975Z",
          "iopub.execute_input": "2021-10-19T21:26:25.224613Z",
          "iopub.status.idle": "2021-10-19T21:26:36.516175Z",
          "shell.execute_reply.started": "2021-10-19T21:26:25.224252Z",
          "shell.execute_reply": "2021-10-19T21:26:36.515006Z"
        },
        "trusted": true,
        "id": "YXjmpKh6ATqr",
        "colab": {
          "base_uri": "https://localhost:8080/"
        },
        "outputId": "c64966bd-2347-40c4-8f75-70504a108d40"
      },
      "execution_count": 64,
      "outputs": [
        {
          "output_type": "stream",
          "name": "stdout",
          "text": [
            "Training Accuracy: 1.0000\n",
            "Testing Accuracy:  0.7861\n"
          ]
        }
      ]
    },
    {
      "cell_type": "markdown",
      "source": [
        "## Hyperparameters Optimization\n",
        "\n",
        "One crucial steps of deep learning and working with neural networks is hyperparameter optimization.\n",
        "\n",
        "As you saw in the models that we have used so far, even with simpler ones, you had a large number of parameters to tweak and choose from. Those parameters are called hyperparameters. This is the most time consuming part of machine learning and sadly there are no one-fits-all solutions ready.\n",
        "\n",
        "One popular method for hyperparameter optimization is **grid search**. What this method does is it takes lists of parameters and it runs the model with each parameter combination that it can find. It is the most thorough way but also the most computationally heavy way to do this. Another common way,**random search**, which you’ll see in action here, simply takes random combinations of parameters.\n",
        "\n",
        "In order to apply random search with Keras, you will need to use the KerasClassifier which serves as a wrapper for the scikit-learn API. With this wrapper you are able to use the various tools available with scikit-learn like cross-validation. The class that you need is RandomizedSearchCV which implements random search with cross-validation. Cross-validation is a way to validate the model and take the whole data set and separate it into multiple testing and training data sets.\n",
        "\n",
        "There are various types of cross-validation. One type is the k-fold cross-validation. In this type the data set is partitioned into k equal sized sets where one set is used for testing and the rest of the partitions are used for training. This enables you to run k different runs, where each partition is once used as a testing set. So, the higher k is the more accurate the model evaluation is, but the smaller each testing set is."
      ],
      "metadata": {
        "_uuid": "985360d558b0fcd6b6f17bd8f7599a091b5aa35c",
        "id": "uLs6GtvNATqs"
      }
    },
    {
      "cell_type": "code",
      "source": [
        "def create_model(num_filters, kernel_size, vocab_size, embedding_dim, maxlen):\n",
        "    model = Sequential()\n",
        "    model.add(layers.Embedding(vocab_size, embedding_dim, input_length=maxlen))\n",
        "    model.add(layers.Conv1D(num_filters, kernel_size, activation='relu'))\n",
        "    model.add(layers.GlobalMaxPooling1D())\n",
        "    model.add(layers.Dense(10, activation='relu'))\n",
        "    model.add(layers.Dense(1, activation='sigmoid'))\n",
        "    model.compile(optimizer='adam',\n",
        "                  loss='binary_crossentropy',\n",
        "                  metrics=['accuracy'])\n",
        "    return model"
      ],
      "metadata": {
        "_uuid": "b347dfa060395fafe259a56d4bf4385d213a6727",
        "execution": {
          "iopub.status.busy": "2021-10-19T21:26:36.517658Z",
          "iopub.execute_input": "2021-10-19T21:26:36.517976Z",
          "iopub.status.idle": "2021-10-19T21:26:36.525038Z",
          "shell.execute_reply.started": "2021-10-19T21:26:36.517921Z",
          "shell.execute_reply": "2021-10-19T21:26:36.524081Z"
        },
        "trusted": true,
        "id": "WrwjYv3BATqt"
      },
      "execution_count": 65,
      "outputs": []
    },
    {
      "cell_type": "code",
      "source": [
        "param_grid = dict(num_filters=[32, 64, 128],\n",
        "                  kernel_size=[3, 5, 7],\n",
        "                  vocab_size=[5000], \n",
        "                  embedding_dim=[50],\n",
        "                  maxlen=[100])"
      ],
      "metadata": {
        "_uuid": "cbdba00bf86fe148d34f58051aa8b74aa410894f",
        "execution": {
          "iopub.status.busy": "2021-10-19T21:26:36.526413Z",
          "iopub.execute_input": "2021-10-19T21:26:36.526763Z",
          "iopub.status.idle": "2021-10-19T21:26:36.537009Z",
          "shell.execute_reply.started": "2021-10-19T21:26:36.526700Z",
          "shell.execute_reply": "2021-10-19T21:26:36.536345Z"
        },
        "trusted": true,
        "id": "kcHKpFSaATqv"
      },
      "execution_count": 66,
      "outputs": []
    },
    {
      "cell_type": "code",
      "source": [
        "# Main settings\n",
        "epochs = 20\n",
        "embedding_dim = 50\n",
        "maxlen = 100\n",
        "output_file = 'output.txt'\n",
        "\n",
        "# Run grid search for each source (yelp, amazon, imdb)\n",
        "for source, frame in df.groupby('source'):\n",
        "    print('Running grid search for data set :', source)\n",
        "    sentences = df['sentence'].values\n",
        "    y = df['label'].values\n",
        "\n",
        "    # Train-test split\n",
        "    sentences_train, sentences_test, y_train, y_test = train_test_split(\n",
        "        sentences, y, test_size=0.25, random_state=1000)\n",
        "\n",
        "    # Tokenize words\n",
        "    tokenizer = Tokenizer(num_words=5000)\n",
        "    tokenizer.fit_on_texts(sentences_train)\n",
        "    X_train = tokenizer.texts_to_sequences(sentences_train)\n",
        "    X_test = tokenizer.texts_to_sequences(sentences_test)\n",
        "\n",
        "    # Adding 1 because of reserved 0 index\n",
        "    vocab_size = len(tokenizer.word_index) + 1\n",
        "\n",
        "    # Pad sequences with zeros\n",
        "    X_train = pad_sequences(X_train, padding='post', maxlen=maxlen)\n",
        "    X_test = pad_sequences(X_test, padding='post', maxlen=maxlen)\n",
        "\n",
        "    # Parameter grid for grid search\n",
        "    param_grid = dict(num_filters=[32, 64, 128],\n",
        "                      kernel_size=[3, 5, 7],\n",
        "                      vocab_size=[vocab_size],\n",
        "                      embedding_dim=[embedding_dim],\n",
        "                      maxlen=[maxlen])\n",
        "    model = KerasClassifier(build_fn=create_model,\n",
        "                            epochs=epochs, batch_size=10,\n",
        "                            verbose=False)\n",
        "    grid = RandomizedSearchCV(estimator=model, param_distributions=param_grid,\n",
        "                              cv=4, verbose=1, n_iter=5)\n",
        "    grid_result = grid.fit(X_train, y_train)\n",
        "\n",
        "    # Evaluate testing set\n",
        "    test_accuracy = grid.score(X_test, y_test)\n",
        "\n",
        "    # Save and evaluate results\n",
        "#     prompt = input(f'finished {source}; write to file and proceed? [y/n]')\n",
        "#     if prompt.lower() not in {'y', 'true', 'yes'}:\n",
        "#         break\n",
        "#     with open(output_file, 'w+') as f:\n",
        "    s = ('Running {} data set\\nBest Accuracy : '\n",
        "             '{:.4f}\\n{}\\nTest Accuracy : {:.4f}\\n\\n')\n",
        "    output_string = s.format(\n",
        "        source,\n",
        "        grid_result.best_score_,\n",
        "        grid_result.best_params_,\n",
        "        test_accuracy)\n",
        "    print(output_string)\n",
        "#         f.write(output_string)"
      ],
      "metadata": {
        "_uuid": "a33d1066e49c58b8305208f5a59d220f7097bcb8",
        "execution": {
          "iopub.status.busy": "2021-10-19T21:26:36.538063Z",
          "iopub.execute_input": "2021-10-19T21:26:36.538365Z"
        },
        "trusted": true,
        "colab": {
          "base_uri": "https://localhost:8080/"
        },
        "id": "olBviPErATqw",
        "outputId": "f2f2c2c0-631c-41b8-8700-3cb1f40e5cbf"
      },
      "execution_count": null,
      "outputs": [
        {
          "metadata": {
            "tags": null
          },
          "name": "stdout",
          "output_type": "stream",
          "text": [
            "Running grid search for data set : amazon\n",
            "Fitting 4 folds for each of 5 candidates, totalling 20 fits\n"
          ]
        },
        {
          "metadata": {
            "tags": null
          },
          "name": "stderr",
          "output_type": "stream",
          "text": [
            "/usr/local/lib/python3.7/dist-packages/ipykernel_launcher.py:38: DeprecationWarning: KerasClassifier is deprecated, use Sci-Keras (https://github.com/adriangb/scikeras) instead. See https://www.adriangb.com/scikeras/stable/migration.html for help migrating.\n"
          ]
        },
        {
          "metadata": {
            "tags": null
          },
          "name": "stdout",
          "output_type": "stream",
          "text": [
            "Running amazon data set\n",
            "Best Accuracy : 0.8200\n",
            "{'vocab_size': 4605, 'num_filters': 128, 'maxlen': 100, 'kernel_size': 5, 'embedding_dim': 50}\n",
            "Test Accuracy : 0.8428\n",
            "\n",
            "\n",
            "Running grid search for data set : imdb\n",
            "Fitting 4 folds for each of 5 candidates, totalling 20 fits\n"
          ]
        },
        {
          "metadata": {
            "tags": null
          },
          "name": "stderr",
          "output_type": "stream",
          "text": [
            "/usr/local/lib/python3.7/dist-packages/ipykernel_launcher.py:38: DeprecationWarning: KerasClassifier is deprecated, use Sci-Keras (https://github.com/adriangb/scikeras) instead. See https://www.adriangb.com/scikeras/stable/migration.html for help migrating.\n"
          ]
        },
        {
          "metadata": {
            "tags": null
          },
          "name": "stdout",
          "output_type": "stream",
          "text": [
            "Running imdb data set\n",
            "Best Accuracy : 0.8156\n",
            "{'vocab_size': 4605, 'num_filters': 32, 'maxlen': 100, 'kernel_size': 5, 'embedding_dim': 50}\n",
            "Test Accuracy : 0.8311\n",
            "\n",
            "\n",
            "Running grid search for data set : yelp\n",
            "Fitting 4 folds for each of 5 candidates, totalling 20 fits\n"
          ]
        },
        {
          "metadata": {
            "tags": null
          },
          "name": "stderr",
          "output_type": "stream",
          "text": [
            "/usr/local/lib/python3.7/dist-packages/ipykernel_launcher.py:38: DeprecationWarning: KerasClassifier is deprecated, use Sci-Keras (https://github.com/adriangb/scikeras) instead. See https://www.adriangb.com/scikeras/stable/migration.html for help migrating.\n"
          ]
        }
      ]
    }
  ]
}